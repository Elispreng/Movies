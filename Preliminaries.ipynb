{
 "cells": [
  {
   "cell_type": "markdown",
   "id": "40f5f29f",
   "metadata": {},
   "source": [
    "# Create Project"
   ]
  },
  {
   "cell_type": "markdown",
   "id": "8888f798",
   "metadata": {},
   "source": [
    "## Load Libraries and Functions"
   ]
  },
  {
   "cell_type": "code",
   "execution_count": 1,
   "id": "ab4e879a",
   "metadata": {},
   "outputs": [],
   "source": [
    "# import pandas\n",
    "import pandas as pd\n",
    "import numpy as np\n",
    "import matplotlib.pyplot as plt"
   ]
  },
  {
   "cell_type": "markdown",
   "id": "6a941c67",
   "metadata": {},
   "source": [
    "## Load Data"
   ]
  },
  {
   "cell_type": "code",
   "execution_count": 2,
   "id": "001a3855",
   "metadata": {},
   "outputs": [],
   "source": [
    "# imdb urls for datasets\n",
    "basics_url = \"https://datasets.imdbws.com/title.basics.tsv.gz\"\n",
    "akas_url = \"https://datasets.imdbws.com/title.akas.tsv.gz\"\n",
    "ratings_url = \"https://datasets.imdbws.com/title.ratings.tsv.gz\""
   ]
  },
  {
   "cell_type": "code",
   "execution_count": null,
   "id": "2afc96ba",
   "metadata": {},
   "outputs": [],
   "source": [
    "# loading the data\n",
    "basics = pd.read_csv(basics_url, sep='\\t', low_memory=False)\n",
    "akas = pd.read_csv(akas_url, sep='\\t', low_memory=False)\n",
    "ratings = pd.read_csv(ratings_url, sep='\\t', low_memory=False)\n",
    "\n",
    "# viewing the data\n",
    "display(basics.head(), akas.head(), ratings.head())\n"
   ]
  },
  {
   "cell_type": "markdown",
   "id": "00dd1c0d",
   "metadata": {},
   "source": [
    "## Cleaning the Data"
   ]
  },
  {
   "cell_type": "code",
   "execution_count": null,
   "id": "1d5b8cd3",
   "metadata": {},
   "outputs": [],
   "source": [
    "# replacing '\\N' with np.nan\n",
    "basics = basics.replace('\\\\N', np.nan).copy()\n",
    "akas = akas.replace('\\\\N', np.nan).copy()\n",
    "ratings = ratings.replace('\\\\N', np.nan).copy()"
   ]
  },
  {
   "cell_type": "code",
   "execution_count": null,
   "id": "5326c5f1",
   "metadata": {},
   "outputs": [],
   "source": [
    "# checking changes\n",
    "display(basics.head(3), akas.head(3))\n",
    "\n",
    "# ratings did not appear to have any NaN values\n",
    "ratings.isna().sum()"
   ]
  },
  {
   "cell_type": "markdown",
   "id": "127fa0f6",
   "metadata": {},
   "source": [
    "### Basics\n",
    "* [x] Eliminate movies that are null for runtimeMinutes\n",
    "* [x] Eliminate movies that are null for genre\n",
    "* [x] keep only titleType==Movie\n",
    "* [x] keep startYear 2000-2022\n",
    "* [x] Eliminate movies that include \"Documentary\" in genre (see tip below)\n",
    "* [x] Keep only US movies"
   ]
  },
  {
   "cell_type": "code",
   "execution_count": null,
   "id": "89a4958c",
   "metadata": {},
   "outputs": [],
   "source": [
    "# look at info\n",
    "basics.info()\n"
   ]
  },
  {
   "cell_type": "code",
   "execution_count": null,
   "id": "91854cfb",
   "metadata": {},
   "outputs": [],
   "source": [
    "# 'startYear' is a string column, changing it to an float (to account for NaNs)\n",
    "basics['startYear'] = basics['startYear'].astype(float)\n",
    "\n",
    "# confirming\n",
    "basics.dtypes"
   ]
  },
  {
   "cell_type": "code",
   "execution_count": null,
   "id": "a00e25db",
   "metadata": {},
   "outputs": [],
   "source": [
    "#  drop minutes and genres \n",
    "basics= basics.dropna(subset= ['runtimeMinutes', 'genres'], inplace=True)"
   ]
  },
  {
   "cell_type": "code",
   "execution_count": null,
   "id": "f45ef8aa",
   "metadata": {},
   "outputs": [],
   "source": [
    "# keep only 'Movie'\n",
    "basics = basics.loc[ basics['titleType']=='movie']"
   ]
  },
  {
   "cell_type": "code",
   "execution_count": null,
   "id": "b282d0a2",
   "metadata": {},
   "outputs": [],
   "source": [
    "basics.info()"
   ]
  },
  {
   "cell_type": "code",
   "execution_count": null,
   "id": "05133ed0",
   "metadata": {},
   "outputs": [],
   "source": []
  },
  {
   "cell_type": "code",
   "execution_count": null,
   "id": "247d4711",
   "metadata": {},
   "outputs": [],
   "source": []
  },
  {
   "cell_type": "code",
   "execution_count": null,
   "id": "f36d843f",
   "metadata": {},
   "outputs": [],
   "source": []
  },
  {
   "cell_type": "code",
   "execution_count": null,
   "id": "e00b1ed8",
   "metadata": {},
   "outputs": [],
   "source": []
  }
 ],
 "metadata": {
  "kernelspec": {
   "display_name": "Python (dojo-env)",
   "language": "python",
   "name": "dojo-env"
  },
  "language_info": {
   "codemirror_mode": {
    "name": "ipython",
    "version": 3
   },
   "file_extension": ".py",
   "mimetype": "text/x-python",
   "name": "python",
   "nbconvert_exporter": "python",
   "pygments_lexer": "ipython3",
   "version": "3.9.15"
  },
  "toc": {
   "base_numbering": 1,
   "nav_menu": {},
   "number_sections": true,
   "sideBar": true,
   "skip_h1_title": false,
   "title_cell": "Table of Contents",
   "title_sidebar": "Contents",
   "toc_cell": false,
   "toc_position": {},
   "toc_section_display": true,
   "toc_window_display": true
  }
 },
 "nbformat": 4,
 "nbformat_minor": 5
}
