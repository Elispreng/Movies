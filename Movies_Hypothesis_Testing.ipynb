{
 "cells": [
  {
   "cell_type": "markdown",
   "id": "a9a427eb",
   "metadata": {},
   "source": [
    "#### Overview\n",
    "\n",
    "1.  How does MPAA rating of a movie (G/PG/PG-13/R) affect how much revenue the movie generates?\n",
    "2. Is there a difference in revenue between 2018 and 2020?\n",
    "3. What  is the difference in revenue for movie length of short vs. long"
   ]
  },
  {
   "cell_type": "markdown",
   "id": "3bc3bbe3",
   "metadata": {},
   "source": [
    "# Create project"
   ]
  },
  {
   "cell_type": "code",
   "execution_count": 2,
   "id": "e3e338e6",
   "metadata": {},
   "outputs": [],
   "source": [
    "# basic imports\n",
    "import pandas as pd\n",
    "import numpy as np\n",
    "from matplotlib import pyplot as plt\n",
    "import seaborn as sns\n",
    "\n",
    "# SQL\n",
    "from sqlalchemy import create_engine\n",
    "import pymysql\n",
    "pymysql.install_as_MySQLdb()\n",
    "\n",
    "# Stats\n",
    "import scipy.stats as stats\n",
    "import statsmodels.api as sm\n",
    "\n",
    "# settings\n",
    "import warnings\n",
    "warnings.filterwarnings(\"ignore\")\n",
    "pd.options.display.float_format = '{:,.2f}'.format"
   ]
  },
  {
   "cell_type": "markdown",
   "id": "b7fad4fd",
   "metadata": {},
   "source": [
    "# Load Data and Process"
   ]
  },
  {
   "cell_type": "markdown",
   "id": "086583b6",
   "metadata": {},
   "source": [
    "#### Several step need to be taken to clean and prepare the data\n",
    "\n",
    "-  for the first hypothesis drop movies with low counts in certification categories\n",
    "- for the second hypothesis  the movies need to be grouped"
   ]
  },
  {
   "cell_type": "markdown",
   "id": "b9024fe4",
   "metadata": {},
   "source": [
    "## First Hypothesis prep"
   ]
  },
  {
   "cell_type": "code",
   "execution_count": 3,
   "id": "e65cd4bc",
   "metadata": {},
   "outputs": [],
   "source": [
    "# load data of years 2010-2020\n",
    "year_2010 = pd.read_csv('API_Data/final_tmdb_data_2010.csv.gz', low_memory = False)\n",
    "year_2011 = pd.read_csv('API_Data/final_tmdb_data_2011.csv.gz', low_memory = False, lineterminator='\\n')\n",
    "year_2012 = pd.read_csv('API_Data/final_tmdb_data_2012.csv.gz', low_memory = False, lineterminator='\\n')\n",
    "year_2013 = pd.read_csv('API_Data/final_tmdb_data_2013.csv.gz', low_memory = False)\n",
    "year_2014 = pd.read_csv('API_Data/final_tmdb_data_2014.csv.gz', low_memory = False, lineterminator='\\n')\n",
    "year_2015 = pd.read_csv('API_Data/final_tmdb_data_2015.csv.gz', low_memory = False, lineterminator='\\n')\n",
    "year_2016 = pd.read_csv('API_Data/final_tmdb_data_2016.csv.gz', low_memory = False)\n",
    "year_2017 = pd.read_csv('API_Data/final_tmdb_data_2017.csv.gz', low_memory = False, lineterminator='\\n')\n",
    "year_2018 = pd.read_csv('API_Data/final_tmdb_data_2018.csv.gz', low_memory = False, lineterminator='\\n')\n",
    "year_2019 = pd.read_csv('API_Data/final_tmdb_data_2019.csv.gz', low_memory = False, lineterminator='\\n')\n",
    "year_2020 = pd.read_csv('API_Data/final_tmdb_data_2020.csv.gz', low_memory = False, lineterminator='\\n')\n"
   ]
  },
  {
   "cell_type": "code",
   "execution_count": 4,
   "id": "76f94974",
   "metadata": {},
   "outputs": [
    {
     "data": {
      "text/html": [
       "<div>\n",
       "<style scoped>\n",
       "    .dataframe tbody tr th:only-of-type {\n",
       "        vertical-align: middle;\n",
       "    }\n",
       "\n",
       "    .dataframe tbody tr th {\n",
       "        vertical-align: top;\n",
       "    }\n",
       "\n",
       "    .dataframe thead th {\n",
       "        text-align: right;\n",
       "    }\n",
       "</style>\n",
       "<table border=\"1\" class=\"dataframe\">\n",
       "  <thead>\n",
       "    <tr style=\"text-align: right;\">\n",
       "      <th></th>\n",
       "      <th>imdb_id</th>\n",
       "      <th>adult</th>\n",
       "      <th>backdrop_path</th>\n",
       "      <th>belongs_to_collection</th>\n",
       "      <th>budget</th>\n",
       "      <th>genres</th>\n",
       "      <th>homepage</th>\n",
       "      <th>id</th>\n",
       "      <th>original_language</th>\n",
       "      <th>original_title</th>\n",
       "      <th>...</th>\n",
       "      <th>revenue</th>\n",
       "      <th>runtime</th>\n",
       "      <th>spoken_languages</th>\n",
       "      <th>status</th>\n",
       "      <th>tagline</th>\n",
       "      <th>title</th>\n",
       "      <th>video</th>\n",
       "      <th>vote_average</th>\n",
       "      <th>vote_count</th>\n",
       "      <th>certification</th>\n",
       "    </tr>\n",
       "  </thead>\n",
       "  <tbody>\n",
       "    <tr>\n",
       "      <th>0</th>\n",
       "      <td>0</td>\n",
       "      <td>NaN</td>\n",
       "      <td>NaN</td>\n",
       "      <td>NaN</td>\n",
       "      <td>NaN</td>\n",
       "      <td>NaN</td>\n",
       "      <td>NaN</td>\n",
       "      <td>NaN</td>\n",
       "      <td>NaN</td>\n",
       "      <td>NaN</td>\n",
       "      <td>...</td>\n",
       "      <td>NaN</td>\n",
       "      <td>NaN</td>\n",
       "      <td>NaN</td>\n",
       "      <td>NaN</td>\n",
       "      <td>NaN</td>\n",
       "      <td>NaN</td>\n",
       "      <td>NaN</td>\n",
       "      <td>NaN</td>\n",
       "      <td>NaN</td>\n",
       "      <td>NaN</td>\n",
       "    </tr>\n",
       "    <tr>\n",
       "      <th>1</th>\n",
       "      <td>tt0312305</td>\n",
       "      <td>0.00</td>\n",
       "      <td>NaN</td>\n",
       "      <td>NaN</td>\n",
       "      <td>0.00</td>\n",
       "      <td>[{'id': 10751, 'name': 'Family'}, {'id': 16, '...</td>\n",
       "      <td>http://www.qqthemovie.com/</td>\n",
       "      <td>23,738.00</td>\n",
       "      <td>en</td>\n",
       "      <td>Quantum Quest: A Cassini Space Odyssey</td>\n",
       "      <td>...</td>\n",
       "      <td>0.00</td>\n",
       "      <td>45.00</td>\n",
       "      <td>[{'english_name': 'English', 'iso_639_1': 'en'...</td>\n",
       "      <td>Released</td>\n",
       "      <td>NaN</td>\n",
       "      <td>Quantum Quest: A Cassini Space Odyssey</td>\n",
       "      <td>0.00</td>\n",
       "      <td>8.40</td>\n",
       "      <td>7.00</td>\n",
       "      <td>NaN</td>\n",
       "    </tr>\n",
       "    <tr>\n",
       "      <th>2</th>\n",
       "      <td>tt0326965</td>\n",
       "      <td>0.00</td>\n",
       "      <td>/xt2klJdKCVGXcoBGQrGfAS0aGDE.jpg</td>\n",
       "      <td>NaN</td>\n",
       "      <td>0.00</td>\n",
       "      <td>[{'id': 53, 'name': 'Thriller'}, {'id': 9648, ...</td>\n",
       "      <td>http://www.inmysleep.com</td>\n",
       "      <td>40,048.00</td>\n",
       "      <td>en</td>\n",
       "      <td>In My Sleep</td>\n",
       "      <td>...</td>\n",
       "      <td>0.00</td>\n",
       "      <td>90.00</td>\n",
       "      <td>[{'english_name': 'English', 'iso_639_1': 'en'...</td>\n",
       "      <td>Released</td>\n",
       "      <td>Sleepwalking Can Be Deadly</td>\n",
       "      <td>In My Sleep</td>\n",
       "      <td>0.00</td>\n",
       "      <td>5.50</td>\n",
       "      <td>31.00</td>\n",
       "      <td>PG-13</td>\n",
       "    </tr>\n",
       "    <tr>\n",
       "      <th>3</th>\n",
       "      <td>tt0331312</td>\n",
       "      <td>0.00</td>\n",
       "      <td>NaN</td>\n",
       "      <td>NaN</td>\n",
       "      <td>0.00</td>\n",
       "      <td>[]</td>\n",
       "      <td>NaN</td>\n",
       "      <td>214,026.00</td>\n",
       "      <td>en</td>\n",
       "      <td>This Wretched Life</td>\n",
       "      <td>...</td>\n",
       "      <td>0.00</td>\n",
       "      <td>0.00</td>\n",
       "      <td>[]</td>\n",
       "      <td>Released</td>\n",
       "      <td>NaN</td>\n",
       "      <td>This Wretched Life</td>\n",
       "      <td>0.00</td>\n",
       "      <td>5.00</td>\n",
       "      <td>1.00</td>\n",
       "      <td>NaN</td>\n",
       "    </tr>\n",
       "    <tr>\n",
       "      <th>4</th>\n",
       "      <td>tt0393049</td>\n",
       "      <td>0.00</td>\n",
       "      <td>/gc9FN5zohhzCt05RkejQIIPLtBl.jpg</td>\n",
       "      <td>NaN</td>\n",
       "      <td>300,000.00</td>\n",
       "      <td>[{'id': 10749, 'name': 'Romance'}, {'id': 35, ...</td>\n",
       "      <td>NaN</td>\n",
       "      <td>324,352.00</td>\n",
       "      <td>en</td>\n",
       "      <td>Anderson's Cross</td>\n",
       "      <td>...</td>\n",
       "      <td>0.00</td>\n",
       "      <td>98.00</td>\n",
       "      <td>[{'english_name': 'English', 'iso_639_1': 'en'...</td>\n",
       "      <td>Released</td>\n",
       "      <td>Sometimes the boy next door is more than the b...</td>\n",
       "      <td>Anderson's Cross</td>\n",
       "      <td>0.00</td>\n",
       "      <td>4.00</td>\n",
       "      <td>5.00</td>\n",
       "      <td>NaN</td>\n",
       "    </tr>\n",
       "  </tbody>\n",
       "</table>\n",
       "<p>5 rows × 26 columns</p>\n",
       "</div>"
      ],
      "text/plain": [
       "     imdb_id  adult                     backdrop_path belongs_to_collection  \\\n",
       "0          0    NaN                               NaN                   NaN   \n",
       "1  tt0312305   0.00                               NaN                   NaN   \n",
       "2  tt0326965   0.00  /xt2klJdKCVGXcoBGQrGfAS0aGDE.jpg                   NaN   \n",
       "3  tt0331312   0.00                               NaN                   NaN   \n",
       "4  tt0393049   0.00  /gc9FN5zohhzCt05RkejQIIPLtBl.jpg                   NaN   \n",
       "\n",
       "      budget                                             genres  \\\n",
       "0        NaN                                                NaN   \n",
       "1       0.00  [{'id': 10751, 'name': 'Family'}, {'id': 16, '...   \n",
       "2       0.00  [{'id': 53, 'name': 'Thriller'}, {'id': 9648, ...   \n",
       "3       0.00                                                 []   \n",
       "4 300,000.00  [{'id': 10749, 'name': 'Romance'}, {'id': 35, ...   \n",
       "\n",
       "                     homepage         id original_language  \\\n",
       "0                         NaN        NaN               NaN   \n",
       "1  http://www.qqthemovie.com/  23,738.00                en   \n",
       "2    http://www.inmysleep.com  40,048.00                en   \n",
       "3                         NaN 214,026.00                en   \n",
       "4                         NaN 324,352.00                en   \n",
       "\n",
       "                           original_title  ... revenue  runtime  \\\n",
       "0                                     NaN  ...     NaN      NaN   \n",
       "1  Quantum Quest: A Cassini Space Odyssey  ...    0.00    45.00   \n",
       "2                             In My Sleep  ...    0.00    90.00   \n",
       "3                      This Wretched Life  ...    0.00     0.00   \n",
       "4                        Anderson's Cross  ...    0.00    98.00   \n",
       "\n",
       "                                    spoken_languages    status  \\\n",
       "0                                                NaN       NaN   \n",
       "1  [{'english_name': 'English', 'iso_639_1': 'en'...  Released   \n",
       "2  [{'english_name': 'English', 'iso_639_1': 'en'...  Released   \n",
       "3                                                 []  Released   \n",
       "4  [{'english_name': 'English', 'iso_639_1': 'en'...  Released   \n",
       "\n",
       "                                             tagline  \\\n",
       "0                                                NaN   \n",
       "1                                                NaN   \n",
       "2                         Sleepwalking Can Be Deadly   \n",
       "3                                                NaN   \n",
       "4  Sometimes the boy next door is more than the b...   \n",
       "\n",
       "                                    title  video  vote_average vote_count  \\\n",
       "0                                     NaN    NaN           NaN        NaN   \n",
       "1  Quantum Quest: A Cassini Space Odyssey   0.00          8.40       7.00   \n",
       "2                             In My Sleep   0.00          5.50      31.00   \n",
       "3                      This Wretched Life   0.00          5.00       1.00   \n",
       "4                        Anderson's Cross   0.00          4.00       5.00   \n",
       "\n",
       "  certification  \n",
       "0           NaN  \n",
       "1           NaN  \n",
       "2         PG-13  \n",
       "3           NaN  \n",
       "4           NaN  \n",
       "\n",
       "[5 rows x 26 columns]"
      ]
     },
     "execution_count": 4,
     "metadata": {},
     "output_type": "execute_result"
    }
   ],
   "source": [
    "#create new dataframe\n",
    "tmdb_df = pd.concat([ year_2010,year_2011, year_2012, year_2013,year_2014, \n",
    "                     year_2015, year_2016, year_2017, \n",
    "                     year_2018, year_2019, year_2020])\n",
    "tmdb_df.head()"
   ]
  },
  {
   "cell_type": "code",
   "execution_count": 5,
   "id": "c1f59e2d",
   "metadata": {},
   "outputs": [
    {
     "name": "stdout",
     "output_type": "stream",
     "text": [
      "<class 'pandas.core.frame.DataFrame'>\n",
      "Int64Index: 40570 entries, 0 to 3717\n",
      "Data columns (total 26 columns):\n",
      " #   Column                 Non-Null Count  Dtype  \n",
      "---  ------                 --------------  -----  \n",
      " 0   imdb_id                40570 non-null  object \n",
      " 1   adult                  40559 non-null  float64\n",
      " 2   backdrop_path          26186 non-null  object \n",
      " 3   belongs_to_collection  2384 non-null   object \n",
      " 4   budget                 40559 non-null  float64\n",
      " 5   genres                 40559 non-null  object \n",
      " 6   homepage               11056 non-null  object \n",
      " 7   id                     40559 non-null  float64\n",
      " 8   original_language      40559 non-null  object \n",
      " 9   original_title         40559 non-null  object \n",
      " 10  overview               39638 non-null  object \n",
      " 11  popularity             40559 non-null  float64\n",
      " 12  poster_path            37225 non-null  object \n",
      " 13  production_companies   40559 non-null  object \n",
      " 14  production_countries   40559 non-null  object \n",
      " 15  release_date           39884 non-null  object \n",
      " 16  revenue                40559 non-null  float64\n",
      " 17  runtime                40043 non-null  float64\n",
      " 18  spoken_languages       40559 non-null  object \n",
      " 19  status                 40559 non-null  object \n",
      " 20  tagline                14235 non-null  object \n",
      " 21  title                  40559 non-null  object \n",
      " 22  video                  40559 non-null  float64\n",
      " 23  vote_average           40559 non-null  float64\n",
      " 24  vote_count             40559 non-null  float64\n",
      " 25  certification          8835 non-null   object \n",
      "dtypes: float64(9), object(17)\n",
      "memory usage: 8.4+ MB\n"
     ]
    }
   ],
   "source": [
    "# look at info\n",
    "tmdb_df.info()\n"
   ]
  },
  {
   "cell_type": "code",
   "execution_count": 8,
   "id": "bba2a530",
   "metadata": {
    "scrolled": true
   },
   "outputs": [
    {
     "data": {
      "text/plain": [
       "R          3307\n",
       "NR         2404\n",
       "PG-13      1859\n",
       "PG          860\n",
       "G           287\n",
       "NC-17       111\n",
       "Unrated       4\n",
       "R             1\n",
       "PG-13         1\n",
       "10            1\n",
       "Name: certification, dtype: int64"
      ]
     },
     "execution_count": 8,
     "metadata": {},
     "output_type": "execute_result"
    }
   ],
   "source": [
    "# look at  counts\n",
    "tmdb_df['certification'].value_counts()\n"
   ]
  },
  {
   "cell_type": "code",
   "execution_count": 9,
   "id": "5f6f0566",
   "metadata": {},
   "outputs": [
    {
     "data": {
      "text/plain": [
       "R          3308\n",
       "NR         2404\n",
       "PG-13      1860\n",
       "PG          860\n",
       "G           287\n",
       "NC-17       111\n",
       "Unrated       4\n",
       "10            1\n",
       "Name: certification, dtype: int64"
      ]
     },
     "execution_count": 9,
     "metadata": {},
     "output_type": "execute_result"
    }
   ],
   "source": [
    "# fix low values\n",
    "tmdb_df['certification'] = tmdb_df['certification'].replace({'R ': 'R',\n",
    "                                                            'PG-13 ': 'PG-13'})\n",
    "tmdb_df['certification'].value_counts()"
   ]
  },
  {
   "cell_type": "code",
   "execution_count": 39,
   "id": "13570196",
   "metadata": {},
   "outputs": [
    {
     "data": {
      "text/html": [
       "<div>\n",
       "<style scoped>\n",
       "    .dataframe tbody tr th:only-of-type {\n",
       "        vertical-align: middle;\n",
       "    }\n",
       "\n",
       "    .dataframe tbody tr th {\n",
       "        vertical-align: top;\n",
       "    }\n",
       "\n",
       "    .dataframe thead th {\n",
       "        text-align: right;\n",
       "    }\n",
       "</style>\n",
       "<table border=\"1\" class=\"dataframe\">\n",
       "  <thead>\n",
       "    <tr style=\"text-align: right;\">\n",
       "      <th></th>\n",
       "      <th>imdb_id</th>\n",
       "      <th>adult</th>\n",
       "      <th>backdrop_path</th>\n",
       "      <th>belongs_to_collection</th>\n",
       "      <th>budget</th>\n",
       "      <th>genres</th>\n",
       "      <th>homepage</th>\n",
       "      <th>id</th>\n",
       "      <th>original_language</th>\n",
       "      <th>original_title</th>\n",
       "      <th>...</th>\n",
       "      <th>revenue</th>\n",
       "      <th>runtime</th>\n",
       "      <th>spoken_languages</th>\n",
       "      <th>status</th>\n",
       "      <th>tagline</th>\n",
       "      <th>title</th>\n",
       "      <th>video</th>\n",
       "      <th>vote_average</th>\n",
       "      <th>vote_count</th>\n",
       "      <th>certification</th>\n",
       "    </tr>\n",
       "  </thead>\n",
       "  <tbody>\n",
       "    <tr>\n",
       "      <th>0</th>\n",
       "      <td>0</td>\n",
       "      <td>NaN</td>\n",
       "      <td>NaN</td>\n",
       "      <td>NaN</td>\n",
       "      <td>NaN</td>\n",
       "      <td>NaN</td>\n",
       "      <td>NaN</td>\n",
       "      <td>NaN</td>\n",
       "      <td>NaN</td>\n",
       "      <td>NaN</td>\n",
       "      <td>...</td>\n",
       "      <td>NaN</td>\n",
       "      <td>NaN</td>\n",
       "      <td>NaN</td>\n",
       "      <td>NaN</td>\n",
       "      <td>NaN</td>\n",
       "      <td>NaN</td>\n",
       "      <td>NaN</td>\n",
       "      <td>NaN</td>\n",
       "      <td>NaN</td>\n",
       "      <td>NaN</td>\n",
       "    </tr>\n",
       "    <tr>\n",
       "      <th>1</th>\n",
       "      <td>tt0113026</td>\n",
       "      <td>0.00</td>\n",
       "      <td>/vMFs7nw6P0bIV1jDsQpxAieAVnH.jpg</td>\n",
       "      <td>NaN</td>\n",
       "      <td>10,000,000.00</td>\n",
       "      <td>[{'id': 35, 'name': 'Comedy'}, {'id': 10402, '...</td>\n",
       "      <td>NaN</td>\n",
       "      <td>62,127.00</td>\n",
       "      <td>en</td>\n",
       "      <td>The Fantasticks</td>\n",
       "      <td>...</td>\n",
       "      <td>0.00</td>\n",
       "      <td>86.00</td>\n",
       "      <td>[{'english_name': 'English', 'iso_639_1': 'en'...</td>\n",
       "      <td>Released</td>\n",
       "      <td>Try to remember the first time magic happened</td>\n",
       "      <td>The Fantasticks</td>\n",
       "      <td>0.00</td>\n",
       "      <td>5.50</td>\n",
       "      <td>22.00</td>\n",
       "      <td>NaN</td>\n",
       "    </tr>\n",
       "  </tbody>\n",
       "</table>\n",
       "<p>2 rows × 26 columns</p>\n",
       "</div>"
      ],
      "text/plain": [
       "     imdb_id  adult                     backdrop_path belongs_to_collection  \\\n",
       "0          0    NaN                               NaN                   NaN   \n",
       "1  tt0113026   0.00  /vMFs7nw6P0bIV1jDsQpxAieAVnH.jpg                   NaN   \n",
       "\n",
       "         budget                                             genres homepage  \\\n",
       "0           NaN                                                NaN      NaN   \n",
       "1 10,000,000.00  [{'id': 35, 'name': 'Comedy'}, {'id': 10402, '...      NaN   \n",
       "\n",
       "         id original_language   original_title  ... revenue  runtime  \\\n",
       "0       NaN               NaN              NaN  ...     NaN      NaN   \n",
       "1 62,127.00                en  The Fantasticks  ...    0.00    86.00   \n",
       "\n",
       "                                    spoken_languages    status  \\\n",
       "0                                                NaN       NaN   \n",
       "1  [{'english_name': 'English', 'iso_639_1': 'en'...  Released   \n",
       "\n",
       "                                         tagline            title  video  \\\n",
       "0                                            NaN              NaN    NaN   \n",
       "1  Try to remember the first time magic happened  The Fantasticks   0.00   \n",
       "\n",
       "   vote_average vote_count certification  \n",
       "0           NaN        NaN           NaN  \n",
       "1          5.50      22.00           NaN  \n",
       "\n",
       "[2 rows x 26 columns]"
      ]
     },
     "execution_count": 39,
     "metadata": {},
     "output_type": "execute_result"
    }
   ],
   "source": [
    "# import the data\n",
    "filename = 'Data/tmdb_results_combined_df.csv.gz'\n",
    "firsthypo_df=pd.read_csv(filename)\n",
    "#check that the data loaded\n",
    "firsthypo_df.head(2)"
   ]
  },
  {
   "cell_type": "code",
   "execution_count": 12,
   "id": "c63c0edb",
   "metadata": {},
   "outputs": [],
   "source": [
    "#derop null values\n",
    "tmdb_df = tmdb_df[tmdb_df.revenue !=0]\n",
    "\n"
   ]
  },
  {
   "cell_type": "code",
   "execution_count": 7,
   "id": "65d35083",
   "metadata": {},
   "outputs": [
    {
     "name": "stdout",
     "output_type": "stream",
     "text": [
      "0.00% of the data in the certification column is missing\n"
     ]
    }
   ],
   "source": [
    "# explore the  missing data\n",
    "num_missing = tmdb_df['certification'].isna().sum()\n",
    "\n",
    "total_rows = tmdb_df.shape[0]\n",
    "\n",
    "percent_missing = num_missing / total_rows\n",
    "print(f'{percent_missing:.2f}% of the data in the certification column is missing')"
   ]
  },
  {
   "cell_type": "code",
   "execution_count": 49,
   "id": "46bcf146",
   "metadata": {},
   "outputs": [],
   "source": [
    "# drop the unrated column\n",
    "firsthypo_df = firsthypo_df.loc[firsthypo_df['certification'] != 'Unrated']"
   ]
  },
  {
   "cell_type": "code",
   "execution_count": 35,
   "id": "c82faf94",
   "metadata": {},
   "outputs": [],
   "source": [
    "# drop the NC-17 column\n",
    "firsthypo_df = firsthypo_df.loc[firsthypo_df['certification'] != 'NC-17']"
   ]
  },
  {
   "cell_type": "code",
   "execution_count": 50,
   "id": "5780b44b",
   "metadata": {},
   "outputs": [
    {
     "data": {
      "text/plain": [
       "R        467\n",
       "PG-13    182\n",
       "NR        71\n",
       "PG        63\n",
       "G         25\n",
       "NC-17      6\n",
       "Name: certification, dtype: int64"
      ]
     },
     "execution_count": 50,
     "metadata": {},
     "output_type": "execute_result"
    }
   ],
   "source": [
    "# resolve small data counts by creating  new column  and check value\n",
    "firsthypo_df['certification'].value_counts()"
   ]
  },
  {
   "cell_type": "code",
   "execution_count": 31,
   "id": "e07b33dc",
   "metadata": {},
   "outputs": [],
   "source": [
    "#drop null values in certification column\n",
    "firsthypo_df = firsthypo_df.dropna(subset=['certification'])"
   ]
  },
  {
   "cell_type": "code",
   "execution_count": 32,
   "id": "2b9eb395",
   "metadata": {},
   "outputs": [
    {
     "data": {
      "text/plain": [
       "count                               814\n",
       "unique                              332\n",
       "top       [{'id': 18, 'name': 'Drama'}]\n",
       "freq                                 70\n",
       "Name: genres, dtype: object"
      ]
     },
     "execution_count": 32,
     "metadata": {},
     "output_type": "execute_result"
    }
   ],
   "source": [
    "firsthypo_df['genres'].describe()\n"
   ]
  },
  {
   "cell_type": "code",
   "execution_count": 7,
   "id": "a748e60f",
   "metadata": {
    "scrolled": true
   },
   "outputs": [
    {
     "data": {
      "text/plain": [
       "R        205\n",
       "PG-13    125\n",
       "PG        34\n",
       "G         13\n",
       "NR        12\n",
       "Name: certification, dtype: int64"
      ]
     },
     "execution_count": 7,
     "metadata": {},
     "output_type": "execute_result"
    }
   ],
   "source": [
    "# resolve small data counts by creating  new column  and check value\n",
    "firsthypo_df['certification'].value_counts()"
   ]
  },
  {
   "cell_type": "markdown",
   "id": "8a20d661",
   "metadata": {},
   "source": [
    "## Second Hypothesis prep"
   ]
  },
  {
   "cell_type": "code",
   "execution_count": 46,
   "id": "a0d99160",
   "metadata": {
    "scrolled": true
   },
   "outputs": [
    {
     "data": {
      "text/html": [
       "<div>\n",
       "<style scoped>\n",
       "    .dataframe tbody tr th:only-of-type {\n",
       "        vertical-align: middle;\n",
       "    }\n",
       "\n",
       "    .dataframe tbody tr th {\n",
       "        vertical-align: top;\n",
       "    }\n",
       "\n",
       "    .dataframe thead th {\n",
       "        text-align: right;\n",
       "    }\n",
       "</style>\n",
       "<table border=\"1\" class=\"dataframe\">\n",
       "  <thead>\n",
       "    <tr style=\"text-align: right;\">\n",
       "      <th></th>\n",
       "      <th>imdb_id</th>\n",
       "      <th>adult</th>\n",
       "      <th>backdrop_path</th>\n",
       "      <th>belongs_to_collection</th>\n",
       "      <th>budget</th>\n",
       "      <th>genres</th>\n",
       "      <th>homepage</th>\n",
       "      <th>id</th>\n",
       "      <th>original_language</th>\n",
       "      <th>original_title</th>\n",
       "      <th>...</th>\n",
       "      <th>revenue</th>\n",
       "      <th>runtime</th>\n",
       "      <th>spoken_languages</th>\n",
       "      <th>status</th>\n",
       "      <th>tagline</th>\n",
       "      <th>title</th>\n",
       "      <th>video</th>\n",
       "      <th>vote_average</th>\n",
       "      <th>vote_count</th>\n",
       "      <th>certification</th>\n",
       "    </tr>\n",
       "  </thead>\n",
       "  <tbody>\n",
       "    <tr>\n",
       "      <th>0</th>\n",
       "      <td>0</td>\n",
       "      <td>NaN</td>\n",
       "      <td>NaN</td>\n",
       "      <td>NaN</td>\n",
       "      <td>NaN</td>\n",
       "      <td>NaN</td>\n",
       "      <td>NaN</td>\n",
       "      <td>NaN</td>\n",
       "      <td>NaN</td>\n",
       "      <td>NaN</td>\n",
       "      <td>...</td>\n",
       "      <td>NaN</td>\n",
       "      <td>NaN</td>\n",
       "      <td>NaN</td>\n",
       "      <td>NaN</td>\n",
       "      <td>NaN</td>\n",
       "      <td>NaN</td>\n",
       "      <td>NaN</td>\n",
       "      <td>NaN</td>\n",
       "      <td>NaN</td>\n",
       "      <td>NaN</td>\n",
       "    </tr>\n",
       "    <tr>\n",
       "      <th>1</th>\n",
       "      <td>tt0069049</td>\n",
       "      <td>0.00</td>\n",
       "      <td>/zjG95oDnBcFKMPgBEmmuNVOMC90.jpg</td>\n",
       "      <td>None</td>\n",
       "      <td>12,000,000.00</td>\n",
       "      <td>[{'id': 18, 'name': 'Drama'}]</td>\n",
       "      <td>https://www.netflix.com/title/80085566</td>\n",
       "      <td>299,782.00</td>\n",
       "      <td>en</td>\n",
       "      <td>The Other Side of the Wind</td>\n",
       "      <td>...</td>\n",
       "      <td>0.00</td>\n",
       "      <td>122.00</td>\n",
       "      <td>[{'english_name': 'English', 'iso_639_1': 'en'...</td>\n",
       "      <td>Released</td>\n",
       "      <td>40 years in the making</td>\n",
       "      <td>The Other Side of the Wind</td>\n",
       "      <td>0.00</td>\n",
       "      <td>6.70</td>\n",
       "      <td>155.00</td>\n",
       "      <td>R</td>\n",
       "    </tr>\n",
       "    <tr>\n",
       "      <th>2</th>\n",
       "      <td>tt0192528</td>\n",
       "      <td>0.00</td>\n",
       "      <td>/kOxAfSyHZEDEhOCic8TxXprUg4T.jpg</td>\n",
       "      <td>None</td>\n",
       "      <td>5,000,000.00</td>\n",
       "      <td>[{'id': 18, 'name': 'Drama'}]</td>\n",
       "      <td>None</td>\n",
       "      <td>567,662.00</td>\n",
       "      <td>en</td>\n",
       "      <td>Reverse Heaven</td>\n",
       "      <td>...</td>\n",
       "      <td>0.00</td>\n",
       "      <td>104.00</td>\n",
       "      <td>[{'english_name': 'English', 'iso_639_1': 'en'...</td>\n",
       "      <td>Released</td>\n",
       "      <td>Heaven's in trouble and there's one man who ca...</td>\n",
       "      <td>Heaven &amp; Hell</td>\n",
       "      <td>0.00</td>\n",
       "      <td>7.20</td>\n",
       "      <td>5.00</td>\n",
       "      <td></td>\n",
       "    </tr>\n",
       "    <tr>\n",
       "      <th>3</th>\n",
       "      <td>tt0360556</td>\n",
       "      <td>0.00</td>\n",
       "      <td>/7oy4miyq4WYYy0xtX6lbNVPrEsr.jpg</td>\n",
       "      <td>None</td>\n",
       "      <td>0.00</td>\n",
       "      <td>[{'id': 18, 'name': 'Drama'}, {'id': 878, 'nam...</td>\n",
       "      <td>https://www.hbo.com/movies/fahrenheit-451</td>\n",
       "      <td>401,905.00</td>\n",
       "      <td>en</td>\n",
       "      <td>Fahrenheit 451</td>\n",
       "      <td>...</td>\n",
       "      <td>0.00</td>\n",
       "      <td>100.00</td>\n",
       "      <td>[{'english_name': 'English', 'iso_639_1': 'en'...</td>\n",
       "      <td>Released</td>\n",
       "      <td>Knowledge is a dangerous thing</td>\n",
       "      <td>Fahrenheit 451</td>\n",
       "      <td>0.00</td>\n",
       "      <td>5.40</td>\n",
       "      <td>686.00</td>\n",
       "      <td>PG-13</td>\n",
       "    </tr>\n",
       "    <tr>\n",
       "      <th>4</th>\n",
       "      <td>tt0365545</td>\n",
       "      <td>0.00</td>\n",
       "      <td>/ljTYcQ3pkzYF52Z8ev1Z1UThnPy.jpg</td>\n",
       "      <td>None</td>\n",
       "      <td>0.00</td>\n",
       "      <td>[{'id': 35, 'name': 'Comedy'}, {'id': 10749, '...</td>\n",
       "      <td>https://www.netflix.com/title/80189630</td>\n",
       "      <td>519,035.00</td>\n",
       "      <td>en</td>\n",
       "      <td>Nappily Ever After</td>\n",
       "      <td>...</td>\n",
       "      <td>0.00</td>\n",
       "      <td>100.00</td>\n",
       "      <td>[{'english_name': 'English', 'iso_639_1': 'en'...</td>\n",
       "      <td>Released</td>\n",
       "      <td>Let yourself grow</td>\n",
       "      <td>Nappily Ever After</td>\n",
       "      <td>0.00</td>\n",
       "      <td>7.20</td>\n",
       "      <td>752.00</td>\n",
       "      <td></td>\n",
       "    </tr>\n",
       "  </tbody>\n",
       "</table>\n",
       "<p>5 rows × 26 columns</p>\n",
       "</div>"
      ],
      "text/plain": [
       "     imdb_id  adult                     backdrop_path belongs_to_collection  \\\n",
       "0          0    NaN                               NaN                   NaN   \n",
       "1  tt0069049   0.00  /zjG95oDnBcFKMPgBEmmuNVOMC90.jpg                  None   \n",
       "2  tt0192528   0.00  /kOxAfSyHZEDEhOCic8TxXprUg4T.jpg                  None   \n",
       "3  tt0360556   0.00  /7oy4miyq4WYYy0xtX6lbNVPrEsr.jpg                  None   \n",
       "4  tt0365545   0.00  /ljTYcQ3pkzYF52Z8ev1Z1UThnPy.jpg                  None   \n",
       "\n",
       "         budget                                             genres  \\\n",
       "0           NaN                                                NaN   \n",
       "1 12,000,000.00                      [{'id': 18, 'name': 'Drama'}]   \n",
       "2  5,000,000.00                      [{'id': 18, 'name': 'Drama'}]   \n",
       "3          0.00  [{'id': 18, 'name': 'Drama'}, {'id': 878, 'nam...   \n",
       "4          0.00  [{'id': 35, 'name': 'Comedy'}, {'id': 10749, '...   \n",
       "\n",
       "                                    homepage         id original_language  \\\n",
       "0                                        NaN        NaN               NaN   \n",
       "1     https://www.netflix.com/title/80085566 299,782.00                en   \n",
       "2                                       None 567,662.00                en   \n",
       "3  https://www.hbo.com/movies/fahrenheit-451 401,905.00                en   \n",
       "4     https://www.netflix.com/title/80189630 519,035.00                en   \n",
       "\n",
       "               original_title  ... revenue  runtime  \\\n",
       "0                         NaN  ...     NaN      NaN   \n",
       "1  The Other Side of the Wind  ...    0.00   122.00   \n",
       "2              Reverse Heaven  ...    0.00   104.00   \n",
       "3              Fahrenheit 451  ...    0.00   100.00   \n",
       "4          Nappily Ever After  ...    0.00   100.00   \n",
       "\n",
       "                                    spoken_languages    status  \\\n",
       "0                                                NaN       NaN   \n",
       "1  [{'english_name': 'English', 'iso_639_1': 'en'...  Released   \n",
       "2  [{'english_name': 'English', 'iso_639_1': 'en'...  Released   \n",
       "3  [{'english_name': 'English', 'iso_639_1': 'en'...  Released   \n",
       "4  [{'english_name': 'English', 'iso_639_1': 'en'...  Released   \n",
       "\n",
       "                                             tagline  \\\n",
       "0                                                NaN   \n",
       "1                             40 years in the making   \n",
       "2  Heaven's in trouble and there's one man who ca...   \n",
       "3                     Knowledge is a dangerous thing   \n",
       "4                                  Let yourself grow   \n",
       "\n",
       "                        title  video  vote_average vote_count certification  \n",
       "0                         NaN    NaN           NaN        NaN           NaN  \n",
       "1  The Other Side of the Wind   0.00          6.70     155.00             R  \n",
       "2               Heaven & Hell   0.00          7.20       5.00                \n",
       "3              Fahrenheit 451   0.00          5.40     686.00         PG-13  \n",
       "4          Nappily Ever After   0.00          7.20     752.00                \n",
       "\n",
       "[5 rows x 26 columns]"
      ]
     },
     "execution_count": 46,
     "metadata": {},
     "output_type": "execute_result"
    }
   ],
   "source": [
    "#read the data\n",
    "df_2018 = pd.read_json('API_Data/tmdb_api_results_2018.json')\n",
    "df_2018.head()\n"
   ]
  },
  {
   "cell_type": "code",
   "execution_count": 51,
   "id": "d960d764",
   "metadata": {},
   "outputs": [
    {
     "name": "stdout",
     "output_type": "stream",
     "text": [
      "<class 'pandas.core.frame.DataFrame'>\n",
      "RangeIndex: 4520 entries, 0 to 4519\n",
      "Data columns (total 26 columns):\n",
      " #   Column                 Non-Null Count  Dtype  \n",
      "---  ------                 --------------  -----  \n",
      " 0   imdb_id                4520 non-null   object \n",
      " 1   adult                  4519 non-null   float64\n",
      " 2   backdrop_path          3450 non-null   object \n",
      " 3   belongs_to_collection  227 non-null    object \n",
      " 4   budget                 4519 non-null   float64\n",
      " 5   genres                 4519 non-null   object \n",
      " 6   homepage               4074 non-null   object \n",
      " 7   id                     4519 non-null   float64\n",
      " 8   original_language      4519 non-null   object \n",
      " 9   original_title         4519 non-null   object \n",
      " 10  overview               4519 non-null   object \n",
      " 11  popularity             4519 non-null   float64\n",
      " 12  poster_path            4411 non-null   object \n",
      " 13  production_companies   4519 non-null   object \n",
      " 14  production_countries   4519 non-null   object \n",
      " 15  release_date           4519 non-null   object \n",
      " 16  revenue                4519 non-null   float64\n",
      " 17  runtime                4479 non-null   float64\n",
      " 18  spoken_languages       4519 non-null   object \n",
      " 19  status                 4519 non-null   object \n",
      " 20  tagline                4519 non-null   object \n",
      " 21  title                  4519 non-null   object \n",
      " 22  video                  4519 non-null   float64\n",
      " 23  vote_average           4519 non-null   float64\n",
      " 24  vote_count             4519 non-null   float64\n",
      " 25  certification          2461 non-null   object \n",
      "dtypes: float64(9), object(17)\n",
      "memory usage: 918.2+ KB\n"
     ]
    }
   ],
   "source": [
    "df_2018.info()"
   ]
  },
  {
   "cell_type": "code",
   "execution_count": 47,
   "id": "555c0ce3",
   "metadata": {
    "scrolled": true
   },
   "outputs": [
    {
     "data": {
      "text/html": [
       "<div>\n",
       "<style scoped>\n",
       "    .dataframe tbody tr th:only-of-type {\n",
       "        vertical-align: middle;\n",
       "    }\n",
       "\n",
       "    .dataframe tbody tr th {\n",
       "        vertical-align: top;\n",
       "    }\n",
       "\n",
       "    .dataframe thead th {\n",
       "        text-align: right;\n",
       "    }\n",
       "</style>\n",
       "<table border=\"1\" class=\"dataframe\">\n",
       "  <thead>\n",
       "    <tr style=\"text-align: right;\">\n",
       "      <th></th>\n",
       "      <th>imdb_id</th>\n",
       "      <th>adult</th>\n",
       "      <th>backdrop_path</th>\n",
       "      <th>belongs_to_collection</th>\n",
       "      <th>budget</th>\n",
       "      <th>genres</th>\n",
       "      <th>homepage</th>\n",
       "      <th>id</th>\n",
       "      <th>original_language</th>\n",
       "      <th>original_title</th>\n",
       "      <th>...</th>\n",
       "      <th>revenue</th>\n",
       "      <th>runtime</th>\n",
       "      <th>spoken_languages</th>\n",
       "      <th>status</th>\n",
       "      <th>tagline</th>\n",
       "      <th>title</th>\n",
       "      <th>video</th>\n",
       "      <th>vote_average</th>\n",
       "      <th>vote_count</th>\n",
       "      <th>certification</th>\n",
       "    </tr>\n",
       "  </thead>\n",
       "  <tbody>\n",
       "    <tr>\n",
       "      <th>0</th>\n",
       "      <td>0</td>\n",
       "      <td>NaN</td>\n",
       "      <td>NaN</td>\n",
       "      <td>NaN</td>\n",
       "      <td>NaN</td>\n",
       "      <td>NaN</td>\n",
       "      <td>NaN</td>\n",
       "      <td>NaN</td>\n",
       "      <td>NaN</td>\n",
       "      <td>NaN</td>\n",
       "      <td>...</td>\n",
       "      <td>NaN</td>\n",
       "      <td>NaN</td>\n",
       "      <td>NaN</td>\n",
       "      <td>NaN</td>\n",
       "      <td>NaN</td>\n",
       "      <td>NaN</td>\n",
       "      <td>NaN</td>\n",
       "      <td>NaN</td>\n",
       "      <td>NaN</td>\n",
       "      <td>NaN</td>\n",
       "    </tr>\n",
       "    <tr>\n",
       "      <th>1</th>\n",
       "      <td>tt0035423</td>\n",
       "      <td>0.00</td>\n",
       "      <td>/hfeiSfWYujh6MKhtGTXyK3DD4nN.jpg</td>\n",
       "      <td>NaN</td>\n",
       "      <td>48,000,000.00</td>\n",
       "      <td>[{'id': 10749, 'name': 'Romance'}, {'id': 14, ...</td>\n",
       "      <td>NaN</td>\n",
       "      <td>11,232.00</td>\n",
       "      <td>en</td>\n",
       "      <td>Kate &amp; Leopold</td>\n",
       "      <td>...</td>\n",
       "      <td>76,019,048.00</td>\n",
       "      <td>118.00</td>\n",
       "      <td>[{'english_name': 'English', 'iso_639_1': 'en'...</td>\n",
       "      <td>Released</td>\n",
       "      <td>If they lived in the same century, they'd be p...</td>\n",
       "      <td>Kate &amp; Leopold</td>\n",
       "      <td>0.00</td>\n",
       "      <td>6.33</td>\n",
       "      <td>1,195.00</td>\n",
       "      <td>PG-13</td>\n",
       "    </tr>\n",
       "  </tbody>\n",
       "</table>\n",
       "<p>2 rows × 26 columns</p>\n",
       "</div>"
      ],
      "text/plain": [
       "     imdb_id  adult                     backdrop_path belongs_to_collection  \\\n",
       "0          0    NaN                               NaN                   NaN   \n",
       "1  tt0035423   0.00  /hfeiSfWYujh6MKhtGTXyK3DD4nN.jpg                   NaN   \n",
       "\n",
       "         budget                                             genres homepage  \\\n",
       "0           NaN                                                NaN      NaN   \n",
       "1 48,000,000.00  [{'id': 10749, 'name': 'Romance'}, {'id': 14, ...      NaN   \n",
       "\n",
       "         id original_language  original_title  ...       revenue  runtime  \\\n",
       "0       NaN               NaN             NaN  ...           NaN      NaN   \n",
       "1 11,232.00                en  Kate & Leopold  ... 76,019,048.00   118.00   \n",
       "\n",
       "                                    spoken_languages    status  \\\n",
       "0                                                NaN       NaN   \n",
       "1  [{'english_name': 'English', 'iso_639_1': 'en'...  Released   \n",
       "\n",
       "                                             tagline           title  video  \\\n",
       "0                                                NaN             NaN    NaN   \n",
       "1  If they lived in the same century, they'd be p...  Kate & Leopold   0.00   \n",
       "\n",
       "   vote_average vote_count certification  \n",
       "0           NaN        NaN           NaN  \n",
       "1          6.33   1,195.00         PG-13  \n",
       "\n",
       "[2 rows x 26 columns]"
      ]
     },
     "execution_count": 47,
     "metadata": {},
     "output_type": "execute_result"
    }
   ],
   "source": [
    "#loading 2021 data, errors in reading 2020 data\n",
    "df_2021 = pd.read_csv('API_Data/final_tmdb_data_2001.csv.gz', low_memory=False)\n",
    "df_2021.head(2)"
   ]
  },
  {
   "cell_type": "code",
   "execution_count": 52,
   "id": "aa52accc",
   "metadata": {},
   "outputs": [
    {
     "name": "stdout",
     "output_type": "stream",
     "text": [
      "<class 'pandas.core.frame.DataFrame'>\n",
      "RangeIndex: 1337 entries, 0 to 1336\n",
      "Data columns (total 26 columns):\n",
      " #   Column                 Non-Null Count  Dtype  \n",
      "---  ------                 --------------  -----  \n",
      " 0   imdb_id                1337 non-null   object \n",
      " 1   adult                  1336 non-null   float64\n",
      " 2   backdrop_path          720 non-null    object \n",
      " 3   belongs_to_collection  92 non-null     object \n",
      " 4   budget                 1336 non-null   float64\n",
      " 5   genres                 1336 non-null   object \n",
      " 6   homepage               108 non-null    object \n",
      " 7   id                     1336 non-null   float64\n",
      " 8   original_language      1336 non-null   object \n",
      " 9   original_title         1336 non-null   object \n",
      " 10  overview               1308 non-null   object \n",
      " 11  popularity             1336 non-null   float64\n",
      " 12  poster_path            1201 non-null   object \n",
      " 13  production_companies   1336 non-null   object \n",
      " 14  production_countries   1336 non-null   object \n",
      " 15  release_date           1321 non-null   object \n",
      " 16  revenue                1336 non-null   float64\n",
      " 17  runtime                1336 non-null   float64\n",
      " 18  spoken_languages       1336 non-null   object \n",
      " 19  status                 1336 non-null   object \n",
      " 20  tagline                554 non-null    object \n",
      " 21  title                  1336 non-null   object \n",
      " 22  video                  1336 non-null   float64\n",
      " 23  vote_average           1336 non-null   float64\n",
      " 24  vote_count             1336 non-null   float64\n",
      " 25  certification          421 non-null    object \n",
      "dtypes: float64(9), object(17)\n",
      "memory usage: 271.7+ KB\n"
     ]
    }
   ],
   "source": [
    "df_2021.info()"
   ]
  },
  {
   "cell_type": "code",
   "execution_count": 53,
   "id": "bae36bd1",
   "metadata": {},
   "outputs": [],
   "source": [
    "# create one dataframe\n",
    "combinedyears = pd.concat([df_2018, df_2021])"
   ]
  },
  {
   "cell_type": "code",
   "execution_count": 54,
   "id": "02bdb99b",
   "metadata": {},
   "outputs": [],
   "source": [
    "#seperate out years\n",
    "combinedyears['release_date'] = pd.to_datetime(combinedyears['release_date'])"
   ]
  },
  {
   "cell_type": "code",
   "execution_count": 55,
   "id": "23afbe74",
   "metadata": {},
   "outputs": [
    {
     "name": "stdout",
     "output_type": "stream",
     "text": [
      "<class 'pandas.core.frame.DataFrame'>\n",
      "Int64Index: 5857 entries, 0 to 1336\n",
      "Data columns (total 27 columns):\n",
      " #   Column                 Non-Null Count  Dtype         \n",
      "---  ------                 --------------  -----         \n",
      " 0   imdb_id                5857 non-null   object        \n",
      " 1   adult                  5855 non-null   float64       \n",
      " 2   backdrop_path          4170 non-null   object        \n",
      " 3   belongs_to_collection  319 non-null    object        \n",
      " 4   budget                 5855 non-null   float64       \n",
      " 5   genres                 5855 non-null   object        \n",
      " 6   homepage               4182 non-null   object        \n",
      " 7   id                     5855 non-null   float64       \n",
      " 8   original_language      5855 non-null   object        \n",
      " 9   original_title         5855 non-null   object        \n",
      " 10  overview               5827 non-null   object        \n",
      " 11  popularity             5855 non-null   float64       \n",
      " 12  poster_path            5612 non-null   object        \n",
      " 13  production_companies   5855 non-null   object        \n",
      " 14  production_countries   5855 non-null   object        \n",
      " 15  release_date           5759 non-null   datetime64[ns]\n",
      " 16  revenue                5855 non-null   float64       \n",
      " 17  runtime                5815 non-null   float64       \n",
      " 18  spoken_languages       5855 non-null   object        \n",
      " 19  status                 5855 non-null   object        \n",
      " 20  tagline                5073 non-null   object        \n",
      " 21  title                  5855 non-null   object        \n",
      " 22  video                  5855 non-null   float64       \n",
      " 23  vote_average           5855 non-null   float64       \n",
      " 24  vote_count             5855 non-null   float64       \n",
      " 25  certification          2882 non-null   object        \n",
      " 26  year                   5759 non-null   float64       \n",
      "dtypes: datetime64[ns](1), float64(10), object(16)\n",
      "memory usage: 1.3+ MB\n"
     ]
    }
   ],
   "source": [
    "#create year column\n",
    "combinedyears['year'] = combinedyears['release_date'].dt.year\n",
    "combinedyears.info()"
   ]
  },
  {
   "cell_type": "code",
   "execution_count": 56,
   "id": "0639d527",
   "metadata": {},
   "outputs": [],
   "source": [
    "# drop null values\n",
    "combinedyears = combinedyears.dropna(subset=['year','revenue'])"
   ]
  },
  {
   "cell_type": "code",
   "execution_count": 57,
   "id": "5b4bab61",
   "metadata": {},
   "outputs": [],
   "source": [
    "#create 2001 column\n",
    "combinedyears['year_2021'] = combinedyears['year'] == 2021"
   ]
  },
  {
   "cell_type": "code",
   "execution_count": 58,
   "id": "38a47944",
   "metadata": {},
   "outputs": [
    {
     "data": {
      "text/plain": [
       "False    5736\n",
       "True       23\n",
       "Name: year_2021, dtype: int64"
      ]
     },
     "execution_count": 58,
     "metadata": {},
     "output_type": "execute_result"
    }
   ],
   "source": [
    "#check values\n",
    "combinedyears['year_2021'].value_counts()"
   ]
  },
  {
   "cell_type": "code",
   "execution_count": 59,
   "id": "a8a5910e",
   "metadata": {},
   "outputs": [],
   "source": [
    "## save list of columns needed for each group\n",
    "needed_cols = ['year_2021', 'revenue']"
   ]
  },
  {
   "cell_type": "code",
   "execution_count": 60,
   "id": "ee64f202",
   "metadata": {},
   "outputs": [
    {
     "data": {
      "text/html": [
       "<div>\n",
       "<style scoped>\n",
       "    .dataframe tbody tr th:only-of-type {\n",
       "        vertical-align: middle;\n",
       "    }\n",
       "\n",
       "    .dataframe tbody tr th {\n",
       "        vertical-align: top;\n",
       "    }\n",
       "\n",
       "    .dataframe thead th {\n",
       "        text-align: right;\n",
       "    }\n",
       "</style>\n",
       "<table border=\"1\" class=\"dataframe\">\n",
       "  <thead>\n",
       "    <tr style=\"text-align: right;\">\n",
       "      <th></th>\n",
       "      <th>year_2021</th>\n",
       "      <th>revenue</th>\n",
       "    </tr>\n",
       "  </thead>\n",
       "  <tbody>\n",
       "    <tr>\n",
       "      <th>123</th>\n",
       "      <td>True</td>\n",
       "      <td>0.00</td>\n",
       "    </tr>\n",
       "    <tr>\n",
       "      <th>126</th>\n",
       "      <td>True</td>\n",
       "      <td>0.00</td>\n",
       "    </tr>\n",
       "    <tr>\n",
       "      <th>127</th>\n",
       "      <td>True</td>\n",
       "      <td>0.00</td>\n",
       "    </tr>\n",
       "    <tr>\n",
       "      <th>248</th>\n",
       "      <td>True</td>\n",
       "      <td>0.00</td>\n",
       "    </tr>\n",
       "    <tr>\n",
       "      <th>600</th>\n",
       "      <td>True</td>\n",
       "      <td>0.00</td>\n",
       "    </tr>\n",
       "    <tr>\n",
       "      <th>764</th>\n",
       "      <td>True</td>\n",
       "      <td>0.00</td>\n",
       "    </tr>\n",
       "    <tr>\n",
       "      <th>980</th>\n",
       "      <td>True</td>\n",
       "      <td>0.00</td>\n",
       "    </tr>\n",
       "    <tr>\n",
       "      <th>1022</th>\n",
       "      <td>True</td>\n",
       "      <td>0.00</td>\n",
       "    </tr>\n",
       "    <tr>\n",
       "      <th>1260</th>\n",
       "      <td>True</td>\n",
       "      <td>0.00</td>\n",
       "    </tr>\n",
       "    <tr>\n",
       "      <th>1306</th>\n",
       "      <td>True</td>\n",
       "      <td>0.00</td>\n",
       "    </tr>\n",
       "    <tr>\n",
       "      <th>1314</th>\n",
       "      <td>True</td>\n",
       "      <td>0.00</td>\n",
       "    </tr>\n",
       "    <tr>\n",
       "      <th>1887</th>\n",
       "      <td>True</td>\n",
       "      <td>0.00</td>\n",
       "    </tr>\n",
       "    <tr>\n",
       "      <th>1972</th>\n",
       "      <td>True</td>\n",
       "      <td>0.00</td>\n",
       "    </tr>\n",
       "    <tr>\n",
       "      <th>2049</th>\n",
       "      <td>True</td>\n",
       "      <td>0.00</td>\n",
       "    </tr>\n",
       "    <tr>\n",
       "      <th>2106</th>\n",
       "      <td>True</td>\n",
       "      <td>0.00</td>\n",
       "    </tr>\n",
       "    <tr>\n",
       "      <th>2381</th>\n",
       "      <td>True</td>\n",
       "      <td>0.00</td>\n",
       "    </tr>\n",
       "    <tr>\n",
       "      <th>2689</th>\n",
       "      <td>True</td>\n",
       "      <td>0.00</td>\n",
       "    </tr>\n",
       "    <tr>\n",
       "      <th>2838</th>\n",
       "      <td>True</td>\n",
       "      <td>0.00</td>\n",
       "    </tr>\n",
       "    <tr>\n",
       "      <th>3528</th>\n",
       "      <td>True</td>\n",
       "      <td>0.00</td>\n",
       "    </tr>\n",
       "    <tr>\n",
       "      <th>4018</th>\n",
       "      <td>True</td>\n",
       "      <td>0.00</td>\n",
       "    </tr>\n",
       "    <tr>\n",
       "      <th>4116</th>\n",
       "      <td>True</td>\n",
       "      <td>0.00</td>\n",
       "    </tr>\n",
       "    <tr>\n",
       "      <th>4495</th>\n",
       "      <td>True</td>\n",
       "      <td>0.00</td>\n",
       "    </tr>\n",
       "    <tr>\n",
       "      <th>712</th>\n",
       "      <td>True</td>\n",
       "      <td>0.00</td>\n",
       "    </tr>\n",
       "  </tbody>\n",
       "</table>\n",
       "</div>"
      ],
      "text/plain": [
       "      year_2021  revenue\n",
       "123        True     0.00\n",
       "126        True     0.00\n",
       "127        True     0.00\n",
       "248        True     0.00\n",
       "600        True     0.00\n",
       "764        True     0.00\n",
       "980        True     0.00\n",
       "1022       True     0.00\n",
       "1260       True     0.00\n",
       "1306       True     0.00\n",
       "1314       True     0.00\n",
       "1887       True     0.00\n",
       "1972       True     0.00\n",
       "2049       True     0.00\n",
       "2106       True     0.00\n",
       "2381       True     0.00\n",
       "2689       True     0.00\n",
       "2838       True     0.00\n",
       "3528       True     0.00\n",
       "4018       True     0.00\n",
       "4116       True     0.00\n",
       "4495       True     0.00\n",
       "712        True     0.00"
      ]
     },
     "execution_count": 60,
     "metadata": {},
     "output_type": "execute_result"
    }
   ],
   "source": [
    "## save year_2021 in separate variable\n",
    "year_2021_df = combinedyears.loc[combinedyears['year_2021']==True, needed_cols]\n",
    "year_2021_df"
   ]
  },
  {
   "cell_type": "code",
   "execution_count": 61,
   "id": "11dae3a7",
   "metadata": {},
   "outputs": [
    {
     "data": {
      "text/html": [
       "<div>\n",
       "<style scoped>\n",
       "    .dataframe tbody tr th:only-of-type {\n",
       "        vertical-align: middle;\n",
       "    }\n",
       "\n",
       "    .dataframe tbody tr th {\n",
       "        vertical-align: top;\n",
       "    }\n",
       "\n",
       "    .dataframe thead th {\n",
       "        text-align: right;\n",
       "    }\n",
       "</style>\n",
       "<table border=\"1\" class=\"dataframe\">\n",
       "  <thead>\n",
       "    <tr style=\"text-align: right;\">\n",
       "      <th></th>\n",
       "      <th>year_2021</th>\n",
       "      <th>revenue</th>\n",
       "    </tr>\n",
       "  </thead>\n",
       "  <tbody>\n",
       "    <tr>\n",
       "      <th>1</th>\n",
       "      <td>False</td>\n",
       "      <td>0.00</td>\n",
       "    </tr>\n",
       "    <tr>\n",
       "      <th>2</th>\n",
       "      <td>False</td>\n",
       "      <td>0.00</td>\n",
       "    </tr>\n",
       "    <tr>\n",
       "      <th>3</th>\n",
       "      <td>False</td>\n",
       "      <td>0.00</td>\n",
       "    </tr>\n",
       "    <tr>\n",
       "      <th>4</th>\n",
       "      <td>False</td>\n",
       "      <td>0.00</td>\n",
       "    </tr>\n",
       "    <tr>\n",
       "      <th>5</th>\n",
       "      <td>False</td>\n",
       "      <td>0.00</td>\n",
       "    </tr>\n",
       "    <tr>\n",
       "      <th>...</th>\n",
       "      <td>...</td>\n",
       "      <td>...</td>\n",
       "    </tr>\n",
       "    <tr>\n",
       "      <th>1332</th>\n",
       "      <td>False</td>\n",
       "      <td>0.00</td>\n",
       "    </tr>\n",
       "    <tr>\n",
       "      <th>1333</th>\n",
       "      <td>False</td>\n",
       "      <td>0.00</td>\n",
       "    </tr>\n",
       "    <tr>\n",
       "      <th>1334</th>\n",
       "      <td>False</td>\n",
       "      <td>0.00</td>\n",
       "    </tr>\n",
       "    <tr>\n",
       "      <th>1335</th>\n",
       "      <td>False</td>\n",
       "      <td>0.00</td>\n",
       "    </tr>\n",
       "    <tr>\n",
       "      <th>1336</th>\n",
       "      <td>False</td>\n",
       "      <td>0.00</td>\n",
       "    </tr>\n",
       "  </tbody>\n",
       "</table>\n",
       "<p>5736 rows × 2 columns</p>\n",
       "</div>"
      ],
      "text/plain": [
       "      year_2021  revenue\n",
       "1         False     0.00\n",
       "2         False     0.00\n",
       "3         False     0.00\n",
       "4         False     0.00\n",
       "5         False     0.00\n",
       "...         ...      ...\n",
       "1332      False     0.00\n",
       "1333      False     0.00\n",
       "1334      False     0.00\n",
       "1335      False     0.00\n",
       "1336      False     0.00\n",
       "\n",
       "[5736 rows x 2 columns]"
      ]
     },
     "execution_count": 61,
     "metadata": {},
     "output_type": "execute_result"
    }
   ],
   "source": [
    "## save year_2018 in separate variable\n",
    "year_2018_df = combinedyears.loc[combinedyears['year_2021']==False, needed_cols]\n",
    "year_2018_df"
   ]
  },
  {
   "cell_type": "code",
   "execution_count": 62,
   "id": "acf01432",
   "metadata": {},
   "outputs": [],
   "source": [
    "## save list of columns needed for each group\n",
    "needed_cols = ['year_2021', 'revenue']"
   ]
  },
  {
   "cell_type": "markdown",
   "id": "634d1af3",
   "metadata": {},
   "source": [
    "## Third Hypothesis prep"
   ]
  },
  {
   "cell_type": "code",
   "execution_count": 20,
   "id": "5dd52c5a",
   "metadata": {
    "scrolled": true
   },
   "outputs": [
    {
     "data": {
      "text/plain": [
       "count   546.00\n",
       "mean    104.60\n",
       "std      22.40\n",
       "min       0.00\n",
       "25%      91.00\n",
       "50%     100.00\n",
       "75%     114.00\n",
       "max     224.00\n",
       "Name: runtime, dtype: float64"
      ]
     },
     "execution_count": 20,
     "metadata": {},
     "output_type": "execute_result"
    }
   ],
   "source": [
    "#explore runtime\n",
    "firsthypo_df['runtime'].describe()"
   ]
  },
  {
   "cell_type": "code",
   "execution_count": 21,
   "id": "496f8ffd",
   "metadata": {},
   "outputs": [
    {
     "data": {
      "text/plain": [
       "90.00     28\n",
       "99.00     18\n",
       "95.00     18\n",
       "108.00    18\n",
       "98.00     18\n",
       "          ..\n",
       "199.00     1\n",
       "77.00      1\n",
       "165.00     1\n",
       "216.00     1\n",
       "70.00      1\n",
       "Name: runtime, Length: 87, dtype: int64"
      ]
     },
     "execution_count": 21,
     "metadata": {},
     "output_type": "execute_result"
    }
   ],
   "source": [
    "# look at runtime\n",
    "firsthypo_df['runtime'].value_counts()"
   ]
  },
  {
   "cell_type": "code",
   "execution_count": 22,
   "id": "1d76fdd5",
   "metadata": {},
   "outputs": [],
   "source": [
    "# create groups\n",
    "long_film_df = firsthypo_df.loc[firsthypo_df['runtime'] > 150].copy()\n",
    "short_film_df = firsthypo_df.loc[firsthypo_df['runtime'] < 90].copy()"
   ]
  },
  {
   "cell_type": "code",
   "execution_count": 23,
   "id": "92715d87",
   "metadata": {},
   "outputs": [
    {
     "name": "stdout",
     "output_type": "stream",
     "text": [
      "<class 'pandas.core.frame.DataFrame'>\n",
      "Int64Index: 22 entries, 61 to 2527\n",
      "Data columns (total 26 columns):\n",
      " #   Column                 Non-Null Count  Dtype  \n",
      "---  ------                 --------------  -----  \n",
      " 0   imdb_id                22 non-null     object \n",
      " 1   adult                  22 non-null     float64\n",
      " 2   backdrop_path          20 non-null     object \n",
      " 3   belongs_to_collection  3 non-null      object \n",
      " 4   budget                 22 non-null     float64\n",
      " 5   genres                 22 non-null     object \n",
      " 6   homepage               3 non-null      object \n",
      " 7   id                     22 non-null     float64\n",
      " 8   original_language      22 non-null     object \n",
      " 9   original_title         22 non-null     object \n",
      " 10  overview               22 non-null     object \n",
      " 11  popularity             22 non-null     float64\n",
      " 12  poster_path            22 non-null     object \n",
      " 13  production_companies   22 non-null     object \n",
      " 14  production_countries   22 non-null     object \n",
      " 15  release_date           22 non-null     object \n",
      " 16  revenue                22 non-null     float64\n",
      " 17  runtime                22 non-null     float64\n",
      " 18  spoken_languages       22 non-null     object \n",
      " 19  status                 22 non-null     object \n",
      " 20  tagline                15 non-null     object \n",
      " 21  title                  22 non-null     object \n",
      " 22  video                  22 non-null     float64\n",
      " 23  vote_average           22 non-null     float64\n",
      " 24  vote_count             22 non-null     float64\n",
      " 25  certification          12 non-null     object \n",
      "dtypes: float64(9), object(17)\n",
      "memory usage: 4.6+ KB\n",
      "<class 'pandas.core.frame.DataFrame'>\n",
      "Int64Index: 98 entries, 1 to 2556\n",
      "Data columns (total 26 columns):\n",
      " #   Column                 Non-Null Count  Dtype  \n",
      "---  ------                 --------------  -----  \n",
      " 0   imdb_id                98 non-null     object \n",
      " 1   adult                  98 non-null     float64\n",
      " 2   backdrop_path          67 non-null     object \n",
      " 3   belongs_to_collection  18 non-null     object \n",
      " 4   budget                 98 non-null     float64\n",
      " 5   genres                 98 non-null     object \n",
      " 6   homepage               6 non-null      object \n",
      " 7   id                     98 non-null     float64\n",
      " 8   original_language      98 non-null     object \n",
      " 9   original_title         98 non-null     object \n",
      " 10  overview               97 non-null     object \n",
      " 11  popularity             98 non-null     float64\n",
      " 12  poster_path            90 non-null     object \n",
      " 13  production_companies   98 non-null     object \n",
      " 14  production_countries   98 non-null     object \n",
      " 15  release_date           97 non-null     object \n",
      " 16  revenue                98 non-null     float64\n",
      " 17  runtime                98 non-null     float64\n",
      " 18  spoken_languages       98 non-null     object \n",
      " 19  status                 98 non-null     object \n",
      " 20  tagline                71 non-null     object \n",
      " 21  title                  98 non-null     object \n",
      " 22  video                  98 non-null     float64\n",
      " 23  vote_average           98 non-null     float64\n",
      " 24  vote_count             98 non-null     float64\n",
      " 25  certification          64 non-null     object \n",
      "dtypes: float64(9), object(17)\n",
      "memory usage: 20.7+ KB\n"
     ]
    },
    {
     "data": {
      "text/plain": [
       "None"
      ]
     },
     "metadata": {},
     "output_type": "display_data"
    },
    {
     "data": {
      "text/plain": [
       "None"
      ]
     },
     "metadata": {},
     "output_type": "display_data"
    }
   ],
   "source": [
    "display(long_film_df.info(), short_film_df.info())"
   ]
  },
  {
   "cell_type": "code",
   "execution_count": 24,
   "id": "201739bb",
   "metadata": {},
   "outputs": [],
   "source": [
    "longfilm_runtime = long_film_df['runtime']\n",
    "shortfilm_runtime = short_film_df['runtime']"
   ]
  },
  {
   "cell_type": "markdown",
   "id": "c85a638f",
   "metadata": {},
   "source": [
    "# First Hypothesis Testing\n",
    "#### What are the differences in  revenue for movie ratings?"
   ]
  },
  {
   "cell_type": "markdown",
   "id": "5a483467",
   "metadata": {},
   "source": [
    "\n",
    "- $H_0$ (Null Hypothesis): Movies have the same revenue in all MPAA ratings\n",
    "- $H_A$ (Alternative Hypothesis): Movies with different MPAA ratings have different revenue.\n",
    "\n",
    "Possible question: How much is the differences using linear regression\n",
    "  -  For this question rating will need to be grouped. \n"
   ]
  },
  {
   "cell_type": "markdown",
   "id": "01a0112b",
   "metadata": {},
   "source": [
    "## Test types: ANOVA (rejected) and Kruskall"
   ]
  },
  {
   "cell_type": "code",
   "execution_count": 13,
   "id": "93033b83",
   "metadata": {},
   "outputs": [
    {
     "data": {
      "text/plain": [
       "dict_keys(['PG', 'R', 'PG-13', 'G', 'NR', 'NC-17'])"
      ]
     },
     "execution_count": 13,
     "metadata": {},
     "output_type": "execute_result"
    }
   ],
   "source": [
    "# Create groups dictionary.\n",
    "groups = {}\n",
    "## Loop through all unique categories\n",
    "for rating in tmdb_df['certification'].unique():\n",
    "    ## Get series for group and rename\n",
    "    data = tmdb_df.loc[tmdb_df['certification']==rating,'revenue'].copy()\n",
    "    \n",
    "    # save into the dictionary\n",
    "    groups[rating] = data\n",
    "groups.keys()"
   ]
  },
  {
   "cell_type": "markdown",
   "id": "182a8e07",
   "metadata": {},
   "source": [
    "### Check Assumptions for ANOVA\n",
    "- normality\n",
    "- equal variance\n",
    "- outliers"
   ]
  },
  {
   "cell_type": "markdown",
   "id": "835ae549",
   "metadata": {},
   "source": [
    "### Normality"
   ]
  },
  {
   "cell_type": "code",
   "execution_count": 14,
   "id": "6b1394af",
   "metadata": {},
   "outputs": [
    {
     "data": {
      "text/html": [
       "<div>\n",
       "<style scoped>\n",
       "    .dataframe tbody tr th:only-of-type {\n",
       "        vertical-align: middle;\n",
       "    }\n",
       "\n",
       "    .dataframe tbody tr th {\n",
       "        vertical-align: top;\n",
       "    }\n",
       "\n",
       "    .dataframe thead th {\n",
       "        text-align: right;\n",
       "    }\n",
       "</style>\n",
       "<table border=\"1\" class=\"dataframe\">\n",
       "  <thead>\n",
       "    <tr style=\"text-align: right;\">\n",
       "      <th></th>\n",
       "      <th>n</th>\n",
       "      <th>p</th>\n",
       "      <th>test stat</th>\n",
       "    </tr>\n",
       "  </thead>\n",
       "  <tbody>\n",
       "    <tr>\n",
       "      <th>PG</th>\n",
       "      <td>343.00</td>\n",
       "      <td>0.00</td>\n",
       "      <td>186.70</td>\n",
       "    </tr>\n",
       "    <tr>\n",
       "      <th>R</th>\n",
       "      <td>1,273.00</td>\n",
       "      <td>0.00</td>\n",
       "      <td>1,162.96</td>\n",
       "    </tr>\n",
       "    <tr>\n",
       "      <th>PG-13</th>\n",
       "      <td>892.00</td>\n",
       "      <td>0.00</td>\n",
       "      <td>694.21</td>\n",
       "    </tr>\n",
       "    <tr>\n",
       "      <th>G</th>\n",
       "      <td>60.00</td>\n",
       "      <td>0.00</td>\n",
       "      <td>54.97</td>\n",
       "    </tr>\n",
       "    <tr>\n",
       "      <th>NR</th>\n",
       "      <td>175.00</td>\n",
       "      <td>0.00</td>\n",
       "      <td>248.23</td>\n",
       "    </tr>\n",
       "    <tr>\n",
       "      <th>NC-17</th>\n",
       "      <td>13.00</td>\n",
       "      <td>0.11</td>\n",
       "      <td>4.33</td>\n",
       "    </tr>\n",
       "  </tbody>\n",
       "</table>\n",
       "</div>"
      ],
      "text/plain": [
       "             n    p  test stat\n",
       "PG      343.00 0.00     186.70\n",
       "R     1,273.00 0.00   1,162.96\n",
       "PG-13   892.00 0.00     694.21\n",
       "G        60.00 0.00      54.97\n",
       "NR      175.00 0.00     248.23\n",
       "NC-17    13.00 0.11       4.33"
      ]
     },
     "execution_count": 14,
     "metadata": {},
     "output_type": "execute_result"
    }
   ],
   "source": [
    "## Running normal test on each group and confirming there are >20 in each group\n",
    "norm_results = {}\n",
    "for i, data in groups.items():\n",
    "    stat, p = stats.normaltest(data)\n",
    "    ## save the p val, test statistic, and the size of the group\n",
    "    norm_results[i] = {'n': len(data),\n",
    "                             'p':p,\n",
    "                             'test stat':stat,}\n",
    "## convert to a dataframe\n",
    "norm_results_df = pd.DataFrame(norm_results).T\n",
    "norm_results_df"
   ]
  },
  {
   "cell_type": "code",
   "execution_count": 16,
   "id": "d805c7fc",
   "metadata": {
    "scrolled": true
   },
   "outputs": [
    {
     "data": {
      "text/html": [
       "<div>\n",
       "<style scoped>\n",
       "    .dataframe tbody tr th:only-of-type {\n",
       "        vertical-align: middle;\n",
       "    }\n",
       "\n",
       "    .dataframe tbody tr th {\n",
       "        vertical-align: top;\n",
       "    }\n",
       "\n",
       "    .dataframe thead th {\n",
       "        text-align: right;\n",
       "    }\n",
       "</style>\n",
       "<table border=\"1\" class=\"dataframe\">\n",
       "  <thead>\n",
       "    <tr style=\"text-align: right;\">\n",
       "      <th></th>\n",
       "      <th>group</th>\n",
       "      <th>n</th>\n",
       "      <th>pval</th>\n",
       "      <th>sig?</th>\n",
       "    </tr>\n",
       "  </thead>\n",
       "  <tbody>\n",
       "    <tr>\n",
       "      <th>0</th>\n",
       "      <td>PG</td>\n",
       "      <td>332</td>\n",
       "      <td>0.00</td>\n",
       "      <td>True</td>\n",
       "    </tr>\n",
       "    <tr>\n",
       "      <th>1</th>\n",
       "      <td>R</td>\n",
       "      <td>1243</td>\n",
       "      <td>0.00</td>\n",
       "      <td>True</td>\n",
       "    </tr>\n",
       "    <tr>\n",
       "      <th>2</th>\n",
       "      <td>PG-13</td>\n",
       "      <td>868</td>\n",
       "      <td>0.00</td>\n",
       "      <td>True</td>\n",
       "    </tr>\n",
       "    <tr>\n",
       "      <th>3</th>\n",
       "      <td>G</td>\n",
       "      <td>58</td>\n",
       "      <td>0.00</td>\n",
       "      <td>True</td>\n",
       "    </tr>\n",
       "    <tr>\n",
       "      <th>4</th>\n",
       "      <td>NR</td>\n",
       "      <td>172</td>\n",
       "      <td>0.00</td>\n",
       "      <td>True</td>\n",
       "    </tr>\n",
       "    <tr>\n",
       "      <th>5</th>\n",
       "      <td>NC-17</td>\n",
       "      <td>13</td>\n",
       "      <td>0.11</td>\n",
       "      <td>False</td>\n",
       "    </tr>\n",
       "  </tbody>\n",
       "</table>\n",
       "</div>"
      ],
      "text/plain": [
       "   group     n  pval   sig?\n",
       "0     PG   332  0.00   True\n",
       "1      R  1243  0.00   True\n",
       "2  PG-13   868  0.00   True\n",
       "3      G    58  0.00   True\n",
       "4     NR   172  0.00   True\n",
       "5  NC-17    13  0.11  False"
      ]
     },
     "execution_count": 16,
     "metadata": {},
     "output_type": "execute_result"
    }
   ],
   "source": [
    "\n",
    "## Save a list with an inner list of column names\n",
    "norm_results = [['group','n','pval','sig?']]\n",
    "\n",
    "\n",
    "## loop through group dict\n",
    "for rating, data in groups.items():\n",
    "    ## calculate normaltest results\n",
    "    stat, p = stats.normaltest(data)\n",
    "    \n",
    "    ## Append the right info into norm_resutls (as a list)\n",
    "    norm_results.append([rating,len(data), p, p<.05])\n",
    "    \n",
    "    \n",
    "## Make norm_results a dataframe (first row is columns, everything else data)\n",
    "normal_results = pd.DataFrame(norm_results[1:], columns = norm_results[0])\n",
    "normal_results"
   ]
  },
  {
   "cell_type": "markdown",
   "id": "0ebee9a5",
   "metadata": {},
   "source": [
    "#### The data  failed the assumpution for normality for G, PG, PG-13, R, and NR groups, but these groups are large enough that we can safely disregard the assumption of normality."
   ]
  },
  {
   "cell_type": "markdown",
   "id": "163b96f4",
   "metadata": {},
   "source": [
    "### Check for Outliers"
   ]
  },
  {
   "cell_type": "code",
   "execution_count": 15,
   "id": "e850a24f",
   "metadata": {
    "scrolled": true
   },
   "outputs": [
    {
     "name": "stdout",
     "output_type": "stream",
     "text": [
      "There were 11 outliers in the PG group.\n",
      "There were 30 outliers in the R group.\n",
      "There were 24 outliers in the PG-13 group.\n",
      "There were 2 outliers in the G group.\n",
      "There were 3 outliers in the NR group.\n",
      "There were 0 outliers in the NC-17 group.\n"
     ]
    }
   ],
   "source": [
    "## Loop through groups dict\n",
    "for rating, data in groups.items():\n",
    "\n",
    "    ## determine if there are any outliers\n",
    "    outliers = np.abs(stats.zscore(data)) > 3\n",
    "    \n",
    "    ## print a statement about how many outliers for which group name\n",
    "    print(f\"There were {outliers.sum()} outliers in the {rating} group.\")\n",
    "\n",
    "    ## Remove the outiers from data and overwrite the rating data in the dict\n",
    "    data = data.loc[~outliers]\n",
    "    groups[rating] = data"
   ]
  },
  {
   "cell_type": "markdown",
   "id": "3f3ec848",
   "metadata": {},
   "source": [
    "### Equal Variance"
   ]
  },
  {
   "cell_type": "code",
   "execution_count": 17,
   "id": "8cebf86d",
   "metadata": {},
   "outputs": [
    {
     "name": "stdout",
     "output_type": "stream",
     "text": [
      "LeveneResult(statistic=66.73338110641302, pvalue=7.093189576096272e-66)\n"
     ]
    }
   ],
   "source": [
    "## Use Levene's test for equal variance\n",
    "result = stats.levene(*groups.values())\n",
    "print(result)"
   ]
  },
  {
   "cell_type": "code",
   "execution_count": 18,
   "id": "21b5cae0",
   "metadata": {},
   "outputs": [
    {
     "name": "stdout",
     "output_type": "stream",
     "text": [
      "The groups do NOT have equal variance.\n"
     ]
    }
   ],
   "source": [
    "## Use an if-else to help interpret the p-value\n",
    "if result.pvalue < 0.5:\n",
    "    print(f'The groups do NOT have equal variance.')\n",
    "else:\n",
    "    print(f'the groups DO have equal variance.')"
   ]
  },
  {
   "cell_type": "markdown",
   "id": "8ce6cb81",
   "metadata": {},
   "source": [
    "- The null hypothesis is rejected the null hypothesis of equal variance.\n",
    "- The ANOVA test is not appropriate, Kruskal-Wallis test is the correct test."
   ]
  },
  {
   "cell_type": "markdown",
   "id": "75fc4b34",
   "metadata": {},
   "source": [
    "###  Run Kruskall Wallace test"
   ]
  },
  {
   "cell_type": "code",
   "execution_count": 19,
   "id": "5a881ae3",
   "metadata": {},
   "outputs": [
    {
     "name": "stdout",
     "output_type": "stream",
     "text": [
      "KruskalResult(statistic=456.6633529097644, pvalue=1.794220577005223e-96)\n"
     ]
    },
    {
     "data": {
      "text/plain": [
       "True"
      ]
     },
     "execution_count": 19,
     "metadata": {},
     "output_type": "execute_result"
    }
   ],
   "source": [
    "## Running Krukal Test for Original Hypothesis\n",
    "result = stats.kruskal(*groups.values())\n",
    "print(result)\n",
    "result.pvalue<.05"
   ]
  },
  {
   "cell_type": "markdown",
   "id": "2d45458b",
   "metadata": {},
   "source": [
    "### Interpretation\n",
    "- The p value is less 0.05. From this data the null hypothesis is rejected. There is a difference between revenue in the different MPAA ratings"
   ]
  },
  {
   "cell_type": "markdown",
   "id": "aa941043",
   "metadata": {},
   "source": [
    "### Visual  for First Hypothesis"
   ]
  },
  {
   "cell_type": "code",
   "execution_count": 21,
   "id": "decb1d7a",
   "metadata": {},
   "outputs": [
    {
     "data": {
      "image/png": "[encoded data removed]",
      "text/plain": [
       "<Figure size 640x480 with 1 Axes>"
      ]
     },
     "metadata": {},
     "output_type": "display_data"
    }
   ],
   "source": [
    "#visualize the data\n",
    "ax= sns.barplot(data = tmdb_df, x='certification',y='revenue', errorbar=None);\n",
    "ax.set_title(\"Revenue by Rating\");"
   ]
  },
  {
   "cell_type": "code",
   "execution_count": 28,
   "id": "17c89607",
   "metadata": {},
   "outputs": [
    {
     "data": {
      "image/png": "[encoded data removed]",
      "text/plain": [
       "<Figure size 640x480 with 1 Axes>"
      ]
     },
     "metadata": {},
     "output_type": "display_data"
    }
   ],
   "source": [
    "#order=df.groupby('Genre')['Rating'].agg('mean').sort_values(ascending=False)\n",
    "order = tmdb_df.groupby([\"certification\"])[\"revenue\"].mean().sort_values(ascending=False).index\n",
    "ax= sns.barplot(data = tmdb_df, x='certification',y='revenue', order=order,\n",
    "                palette='plasma',errorbar=None);\n",
    "ax.set_title(\"Revenue by Rating (2010-2020)\")\n",
    "\n",
    "plt.xlabel('Rating')\n",
    "plt.ylabel('Revenue', fontfamily='Arial Rounded MT Bold', fontsize = 15)\n",
    "plt.ticklabel_format(style='plain', axis='y')\n",
    "\n",
    "\n",
    "ax.spines['right'].set_visible(False)\n",
    "ax.spines['top'].set_visible(False)\n",
    "\n",
    "# setting y axis to display in millions\n",
    "from matplotlib.ticker import FuncFormatter\n",
    "def hundred_k(x, pos):\n",
    "    return f'${x*1e-6:,.0f} M'\n",
    "price_fmt_100k = FuncFormatter(hundred_k)\n",
    "ax.yaxis.set_major_formatter(price_fmt_100k)\n",
    "ax.grid(axis='y', alpha=.3, ls='--') \n",
    "\n",
    "plt.savefig('Images/Bar Plot for Revenue by Rating', bbox_inches='tight')\n"
   ]
  },
  {
   "cell_type": "markdown",
   "id": "817fd2be",
   "metadata": {},
   "source": [
    "## Second Hypothesis\n",
    "- Is there a difference in revenue of 2018 and 2020 films?"
   ]
  },
  {
   "cell_type": "markdown",
   "id": "f5708280",
   "metadata": {},
   "source": [
    "#### Hypothesis\n",
    "- $H_0$ (Null Hypothesis): Movies have the same revenue in 2018 and 2020. \n",
    "- $H_A$ (Alternative Hypothesis): Movies have  different revenue in 2018 and 2020. \n",
    "#### Test type: Independent T test or 2 sample\n",
    "- numeric\n",
    "- two groups\n",
    "#### Assumptions\n",
    "- outliers\n",
    "- normality ( discuss sample size > 15)\n",
    "- equal variance"
   ]
  },
  {
   "cell_type": "markdown",
   "id": "dbb05893",
   "metadata": {},
   "source": [
    "### Outliers"
   ]
  },
  {
   "cell_type": "code",
   "execution_count": 63,
   "id": "e548f6e0",
   "metadata": {
    "scrolled": true
   },
   "outputs": [
    {
     "data": {
      "text/plain": [
       "0"
      ]
     },
     "execution_count": 63,
     "metadata": {},
     "output_type": "execute_result"
    }
   ],
   "source": [
    "## Check year_2021_group for outliers\n",
    "year_2021_outliers = np.abs(stats.zscore(year_2021_group)) > 3\n",
    "\n",
    "year_2021_outliers.sum()"
   ]
  },
  {
   "cell_type": "code",
   "execution_count": 64,
   "id": "332b34cc",
   "metadata": {},
   "outputs": [
    {
     "data": {
      "text/plain": [
       "59"
      ]
     },
     "execution_count": 64,
     "metadata": {},
     "output_type": "execute_result"
    }
   ],
   "source": [
    "## Check year_2018 group for outliers\n",
    "year_2018_outliers = np.abs(stats.zscore(year_2018_group)) > 3\n",
    "\n",
    "year_2018_outliers.sum()"
   ]
  },
  {
   "cell_type": "code",
   "execution_count": 65,
   "id": "e3860e29",
   "metadata": {},
   "outputs": [],
   "source": [
    "## remove 2018 outliers  \n",
    "year_2018_group = year_2018_group.loc[~year_2018_outliers]"
   ]
  },
  {
   "cell_type": "markdown",
   "id": "dc0b5057",
   "metadata": {},
   "source": [
    "### Test for Normality"
   ]
  },
  {
   "cell_type": "code",
   "execution_count": 66,
   "id": "4f2d888a",
   "metadata": {},
   "outputs": [
    {
     "data": {
      "text/plain": [
       "23"
      ]
     },
     "execution_count": 66,
     "metadata": {},
     "output_type": "execute_result"
    }
   ],
   "source": [
    "#check groups size\n",
    "len(year_2021_group)"
   ]
  },
  {
   "cell_type": "code",
   "execution_count": 67,
   "id": "5caac170",
   "metadata": {},
   "outputs": [
    {
     "data": {
      "text/plain": [
       "5677"
      ]
     },
     "execution_count": 67,
     "metadata": {},
     "output_type": "execute_result"
    }
   ],
   "source": [
    "#check groups size\n",
    "len(year_2018_group)"
   ]
  },
  {
   "cell_type": "code",
   "execution_count": null,
   "id": "8739c145",
   "metadata": {},
   "outputs": [],
   "source": []
  },
  {
   "cell_type": "code",
   "execution_count": null,
   "id": "fb75f8ec",
   "metadata": {},
   "outputs": [],
   "source": []
  }
 ],
 "metadata": {
  "kernelspec": {
   "display_name": "Python (dojo-env)",
   "language": "python",
   "name": "dojo-env"
  },
  "language_info": {
   "codemirror_mode": {
    "name": "ipython",
    "version": 3
   },
   "file_extension": ".py",
   "mimetype": "text/x-python",
   "name": "python",
   "nbconvert_exporter": "python",
   "pygments_lexer": "ipython3",
   "version": "3.9.15"
  },
  "toc": {
   "base_numbering": 1,
   "nav_menu": {},
   "number_sections": true,
   "sideBar": true,
   "skip_h1_title": false,
   "title_cell": "Table of Contents",
   "title_sidebar": "Contents",
   "toc_cell": false,
   "toc_position": {},
   "toc_section_display": true,
   "toc_window_display": false
  }
 },
 "nbformat": 4,
 "nbformat_minor": 5
}
