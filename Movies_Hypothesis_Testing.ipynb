{
 "cells": [
  {
   "cell_type": "markdown",
   "id": "a9a427eb",
   "metadata": {},
   "source": [
    "#### Overview\n",
    "\n",
    "1.  How does MPAA rating of a movie (G/PG/PG-13/R) affect how much revenue the movie generates?\n",
    "2. Is there a difference in revenue between 2018 and 2020?\n",
    "3. What  is the difference in revenue for movie length of short vs. long"
   ]
  },
  {
   "cell_type": "markdown",
   "id": "3bc3bbe3",
   "metadata": {},
   "source": [
    "# Create project"
   ]
  },
  {
   "cell_type": "code",
   "execution_count": 1,
   "id": "e3e338e6",
   "metadata": {},
   "outputs": [],
   "source": [
    "# basic imports\n",
    "import pandas as pd\n",
    "import numpy as np\n",
    "from matplotlib import pyplot as plt\n",
    "import seaborn as sns\n",
    "\n",
    "# SQL\n",
    "from sqlalchemy import create_engine\n",
    "import pymysql\n",
    "pymysql.install_as_MySQLdb()\n",
    "\n",
    "# Stats\n",
    "import scipy.stats as stats\n",
    "import statsmodels.api as sm\n",
    "\n",
    "# settings\n",
    "import warnings\n",
    "warnings.filterwarnings(\"ignore\")\n",
    "pd.options.display.float_format = '{:,.2f}'.format"
   ]
  },
  {
   "cell_type": "markdown",
   "id": "b7fad4fd",
   "metadata": {},
   "source": [
    "# Load Data and Process"
   ]
  },
  {
   "cell_type": "markdown",
   "id": "086583b6",
   "metadata": {},
   "source": [
    "#### Several step need to be taken to clean and prepare the data\n",
    "\n",
    "-  for the first hypothesis drop movies with low counts in certification categories\n",
    "- for the second hypothesis  the movies need to be grouped"
   ]
  },
  {
   "cell_type": "markdown",
   "id": "b9024fe4",
   "metadata": {},
   "source": [
    "## First Hypothesis prep"
   ]
  },
  {
   "cell_type": "code",
   "execution_count": 53,
   "id": "e65cd4bc",
   "metadata": {},
   "outputs": [
    {
     "ename": "FileNotFoundError",
     "evalue": "[Errno 2] No such file or directory: 'API_Data/final_tmdb_data_2010.csv'",
     "output_type": "error",
     "traceback": [
      "\u001b[1;31m---------------------------------------------------------------------------\u001b[0m",
      "\u001b[1;31mFileNotFoundError\u001b[0m                         Traceback (most recent call last)",
      "Cell \u001b[1;32mIn [53], line 2\u001b[0m\n\u001b[0;32m      1\u001b[0m \u001b[38;5;66;03m# load data of years 2010-2020\u001b[39;00m\n\u001b[1;32m----> 2\u001b[0m year_2010 \u001b[38;5;241m=\u001b[39m \u001b[43mpd\u001b[49m\u001b[38;5;241;43m.\u001b[39;49m\u001b[43mread_csv\u001b[49m\u001b[43m(\u001b[49m\u001b[38;5;124;43m'\u001b[39;49m\u001b[38;5;124;43mAPI_Data/final_tmdb_data_2010.csv\u001b[39;49m\u001b[38;5;124;43m'\u001b[39;49m\u001b[43m,\u001b[49m\u001b[43m \u001b[49m\u001b[43mlow_memory\u001b[49m\u001b[43m \u001b[49m\u001b[38;5;241;43m=\u001b[39;49m\u001b[43m \u001b[49m\u001b[38;5;28;43;01mFalse\u001b[39;49;00m\u001b[43m)\u001b[49m\n\u001b[0;32m      3\u001b[0m year_2011 \u001b[38;5;241m=\u001b[39m pd\u001b[38;5;241m.\u001b[39mread_csv(\u001b[38;5;124m'\u001b[39m\u001b[38;5;124mAPI_Data/final_tmdb_data_2011.csv\u001b[39m\u001b[38;5;124m'\u001b[39m, low_memory \u001b[38;5;241m=\u001b[39m \u001b[38;5;28;01mFalse\u001b[39;00m, lineterminator\u001b[38;5;241m=\u001b[39m\u001b[38;5;124m'\u001b[39m\u001b[38;5;130;01m\\n\u001b[39;00m\u001b[38;5;124m'\u001b[39m)\n\u001b[0;32m      4\u001b[0m year_2012 \u001b[38;5;241m=\u001b[39m pd\u001b[38;5;241m.\u001b[39mread_csv(\u001b[38;5;124m'\u001b[39m\u001b[38;5;124mAPI_Data/final_tmdb_data_2012.csv\u001b[39m\u001b[38;5;124m'\u001b[39m, low_memory \u001b[38;5;241m=\u001b[39m \u001b[38;5;28;01mFalse\u001b[39;00m, lineterminator\u001b[38;5;241m=\u001b[39m\u001b[38;5;124m'\u001b[39m\u001b[38;5;130;01m\\n\u001b[39;00m\u001b[38;5;124m'\u001b[39m)\n",
      "File \u001b[1;32m~\\anaconda3\\envs\\dojo-env\\lib\\site-packages\\pandas\\util\\_decorators.py:211\u001b[0m, in \u001b[0;36mdeprecate_kwarg.<locals>._deprecate_kwarg.<locals>.wrapper\u001b[1;34m(*args, **kwargs)\u001b[0m\n\u001b[0;32m    209\u001b[0m     \u001b[38;5;28;01melse\u001b[39;00m:\n\u001b[0;32m    210\u001b[0m         kwargs[new_arg_name] \u001b[38;5;241m=\u001b[39m new_arg_value\n\u001b[1;32m--> 211\u001b[0m \u001b[38;5;28;01mreturn\u001b[39;00m func(\u001b[38;5;241m*\u001b[39margs, \u001b[38;5;241m*\u001b[39m\u001b[38;5;241m*\u001b[39mkwargs)\n",
      "File \u001b[1;32m~\\anaconda3\\envs\\dojo-env\\lib\\site-packages\\pandas\\util\\_decorators.py:331\u001b[0m, in \u001b[0;36mdeprecate_nonkeyword_arguments.<locals>.decorate.<locals>.wrapper\u001b[1;34m(*args, **kwargs)\u001b[0m\n\u001b[0;32m    325\u001b[0m \u001b[38;5;28;01mif\u001b[39;00m \u001b[38;5;28mlen\u001b[39m(args) \u001b[38;5;241m>\u001b[39m num_allow_args:\n\u001b[0;32m    326\u001b[0m     warnings\u001b[38;5;241m.\u001b[39mwarn(\n\u001b[0;32m    327\u001b[0m         msg\u001b[38;5;241m.\u001b[39mformat(arguments\u001b[38;5;241m=\u001b[39m_format_argument_list(allow_args)),\n\u001b[0;32m    328\u001b[0m         \u001b[38;5;167;01mFutureWarning\u001b[39;00m,\n\u001b[0;32m    329\u001b[0m         stacklevel\u001b[38;5;241m=\u001b[39mfind_stack_level(),\n\u001b[0;32m    330\u001b[0m     )\n\u001b[1;32m--> 331\u001b[0m \u001b[38;5;28;01mreturn\u001b[39;00m func(\u001b[38;5;241m*\u001b[39margs, \u001b[38;5;241m*\u001b[39m\u001b[38;5;241m*\u001b[39mkwargs)\n",
      "File \u001b[1;32m~\\anaconda3\\envs\\dojo-env\\lib\\site-packages\\pandas\\io\\parsers\\readers.py:950\u001b[0m, in \u001b[0;36mread_csv\u001b[1;34m(filepath_or_buffer, sep, delimiter, header, names, index_col, usecols, squeeze, prefix, mangle_dupe_cols, dtype, engine, converters, true_values, false_values, skipinitialspace, skiprows, skipfooter, nrows, na_values, keep_default_na, na_filter, verbose, skip_blank_lines, parse_dates, infer_datetime_format, keep_date_col, date_parser, dayfirst, cache_dates, iterator, chunksize, compression, thousands, decimal, lineterminator, quotechar, quoting, doublequote, escapechar, comment, encoding, encoding_errors, dialect, error_bad_lines, warn_bad_lines, on_bad_lines, delim_whitespace, low_memory, memory_map, float_precision, storage_options)\u001b[0m\n\u001b[0;32m    935\u001b[0m kwds_defaults \u001b[38;5;241m=\u001b[39m _refine_defaults_read(\n\u001b[0;32m    936\u001b[0m     dialect,\n\u001b[0;32m    937\u001b[0m     delimiter,\n\u001b[1;32m   (...)\u001b[0m\n\u001b[0;32m    946\u001b[0m     defaults\u001b[38;5;241m=\u001b[39m{\u001b[38;5;124m\"\u001b[39m\u001b[38;5;124mdelimiter\u001b[39m\u001b[38;5;124m\"\u001b[39m: \u001b[38;5;124m\"\u001b[39m\u001b[38;5;124m,\u001b[39m\u001b[38;5;124m\"\u001b[39m},\n\u001b[0;32m    947\u001b[0m )\n\u001b[0;32m    948\u001b[0m kwds\u001b[38;5;241m.\u001b[39mupdate(kwds_defaults)\n\u001b[1;32m--> 950\u001b[0m \u001b[38;5;28;01mreturn\u001b[39;00m \u001b[43m_read\u001b[49m\u001b[43m(\u001b[49m\u001b[43mfilepath_or_buffer\u001b[49m\u001b[43m,\u001b[49m\u001b[43m \u001b[49m\u001b[43mkwds\u001b[49m\u001b[43m)\u001b[49m\n",
      "File \u001b[1;32m~\\anaconda3\\envs\\dojo-env\\lib\\site-packages\\pandas\\io\\parsers\\readers.py:605\u001b[0m, in \u001b[0;36m_read\u001b[1;34m(filepath_or_buffer, kwds)\u001b[0m\n\u001b[0;32m    602\u001b[0m _validate_names(kwds\u001b[38;5;241m.\u001b[39mget(\u001b[38;5;124m\"\u001b[39m\u001b[38;5;124mnames\u001b[39m\u001b[38;5;124m\"\u001b[39m, \u001b[38;5;28;01mNone\u001b[39;00m))\n\u001b[0;32m    604\u001b[0m \u001b[38;5;66;03m# Create the parser.\u001b[39;00m\n\u001b[1;32m--> 605\u001b[0m parser \u001b[38;5;241m=\u001b[39m TextFileReader(filepath_or_buffer, \u001b[38;5;241m*\u001b[39m\u001b[38;5;241m*\u001b[39mkwds)\n\u001b[0;32m    607\u001b[0m \u001b[38;5;28;01mif\u001b[39;00m chunksize \u001b[38;5;129;01mor\u001b[39;00m iterator:\n\u001b[0;32m    608\u001b[0m     \u001b[38;5;28;01mreturn\u001b[39;00m parser\n",
      "File \u001b[1;32m~\\anaconda3\\envs\\dojo-env\\lib\\site-packages\\pandas\\io\\parsers\\readers.py:1442\u001b[0m, in \u001b[0;36mTextFileReader.__init__\u001b[1;34m(self, f, engine, **kwds)\u001b[0m\n\u001b[0;32m   1439\u001b[0m     \u001b[38;5;28mself\u001b[39m\u001b[38;5;241m.\u001b[39moptions[\u001b[38;5;124m\"\u001b[39m\u001b[38;5;124mhas_index_names\u001b[39m\u001b[38;5;124m\"\u001b[39m] \u001b[38;5;241m=\u001b[39m kwds[\u001b[38;5;124m\"\u001b[39m\u001b[38;5;124mhas_index_names\u001b[39m\u001b[38;5;124m\"\u001b[39m]\n\u001b[0;32m   1441\u001b[0m \u001b[38;5;28mself\u001b[39m\u001b[38;5;241m.\u001b[39mhandles: IOHandles \u001b[38;5;241m|\u001b[39m \u001b[38;5;28;01mNone\u001b[39;00m \u001b[38;5;241m=\u001b[39m \u001b[38;5;28;01mNone\u001b[39;00m\n\u001b[1;32m-> 1442\u001b[0m \u001b[38;5;28mself\u001b[39m\u001b[38;5;241m.\u001b[39m_engine \u001b[38;5;241m=\u001b[39m \u001b[38;5;28;43mself\u001b[39;49m\u001b[38;5;241;43m.\u001b[39;49m\u001b[43m_make_engine\u001b[49m\u001b[43m(\u001b[49m\u001b[43mf\u001b[49m\u001b[43m,\u001b[49m\u001b[43m \u001b[49m\u001b[38;5;28;43mself\u001b[39;49m\u001b[38;5;241;43m.\u001b[39;49m\u001b[43mengine\u001b[49m\u001b[43m)\u001b[49m\n",
      "File \u001b[1;32m~\\anaconda3\\envs\\dojo-env\\lib\\site-packages\\pandas\\io\\parsers\\readers.py:1735\u001b[0m, in \u001b[0;36mTextFileReader._make_engine\u001b[1;34m(self, f, engine)\u001b[0m\n\u001b[0;32m   1733\u001b[0m     \u001b[38;5;28;01mif\u001b[39;00m \u001b[38;5;124m\"\u001b[39m\u001b[38;5;124mb\u001b[39m\u001b[38;5;124m\"\u001b[39m \u001b[38;5;129;01mnot\u001b[39;00m \u001b[38;5;129;01min\u001b[39;00m mode:\n\u001b[0;32m   1734\u001b[0m         mode \u001b[38;5;241m+\u001b[39m\u001b[38;5;241m=\u001b[39m \u001b[38;5;124m\"\u001b[39m\u001b[38;5;124mb\u001b[39m\u001b[38;5;124m\"\u001b[39m\n\u001b[1;32m-> 1735\u001b[0m \u001b[38;5;28mself\u001b[39m\u001b[38;5;241m.\u001b[39mhandles \u001b[38;5;241m=\u001b[39m \u001b[43mget_handle\u001b[49m\u001b[43m(\u001b[49m\n\u001b[0;32m   1736\u001b[0m \u001b[43m    \u001b[49m\u001b[43mf\u001b[49m\u001b[43m,\u001b[49m\n\u001b[0;32m   1737\u001b[0m \u001b[43m    \u001b[49m\u001b[43mmode\u001b[49m\u001b[43m,\u001b[49m\n\u001b[0;32m   1738\u001b[0m \u001b[43m    \u001b[49m\u001b[43mencoding\u001b[49m\u001b[38;5;241;43m=\u001b[39;49m\u001b[38;5;28;43mself\u001b[39;49m\u001b[38;5;241;43m.\u001b[39;49m\u001b[43moptions\u001b[49m\u001b[38;5;241;43m.\u001b[39;49m\u001b[43mget\u001b[49m\u001b[43m(\u001b[49m\u001b[38;5;124;43m\"\u001b[39;49m\u001b[38;5;124;43mencoding\u001b[39;49m\u001b[38;5;124;43m\"\u001b[39;49m\u001b[43m,\u001b[49m\u001b[43m \u001b[49m\u001b[38;5;28;43;01mNone\u001b[39;49;00m\u001b[43m)\u001b[49m\u001b[43m,\u001b[49m\n\u001b[0;32m   1739\u001b[0m \u001b[43m    \u001b[49m\u001b[43mcompression\u001b[49m\u001b[38;5;241;43m=\u001b[39;49m\u001b[38;5;28;43mself\u001b[39;49m\u001b[38;5;241;43m.\u001b[39;49m\u001b[43moptions\u001b[49m\u001b[38;5;241;43m.\u001b[39;49m\u001b[43mget\u001b[49m\u001b[43m(\u001b[49m\u001b[38;5;124;43m\"\u001b[39;49m\u001b[38;5;124;43mcompression\u001b[39;49m\u001b[38;5;124;43m\"\u001b[39;49m\u001b[43m,\u001b[49m\u001b[43m \u001b[49m\u001b[38;5;28;43;01mNone\u001b[39;49;00m\u001b[43m)\u001b[49m\u001b[43m,\u001b[49m\n\u001b[0;32m   1740\u001b[0m \u001b[43m    \u001b[49m\u001b[43mmemory_map\u001b[49m\u001b[38;5;241;43m=\u001b[39;49m\u001b[38;5;28;43mself\u001b[39;49m\u001b[38;5;241;43m.\u001b[39;49m\u001b[43moptions\u001b[49m\u001b[38;5;241;43m.\u001b[39;49m\u001b[43mget\u001b[49m\u001b[43m(\u001b[49m\u001b[38;5;124;43m\"\u001b[39;49m\u001b[38;5;124;43mmemory_map\u001b[39;49m\u001b[38;5;124;43m\"\u001b[39;49m\u001b[43m,\u001b[49m\u001b[43m \u001b[49m\u001b[38;5;28;43;01mFalse\u001b[39;49;00m\u001b[43m)\u001b[49m\u001b[43m,\u001b[49m\n\u001b[0;32m   1741\u001b[0m \u001b[43m    \u001b[49m\u001b[43mis_text\u001b[49m\u001b[38;5;241;43m=\u001b[39;49m\u001b[43mis_text\u001b[49m\u001b[43m,\u001b[49m\n\u001b[0;32m   1742\u001b[0m \u001b[43m    \u001b[49m\u001b[43merrors\u001b[49m\u001b[38;5;241;43m=\u001b[39;49m\u001b[38;5;28;43mself\u001b[39;49m\u001b[38;5;241;43m.\u001b[39;49m\u001b[43moptions\u001b[49m\u001b[38;5;241;43m.\u001b[39;49m\u001b[43mget\u001b[49m\u001b[43m(\u001b[49m\u001b[38;5;124;43m\"\u001b[39;49m\u001b[38;5;124;43mencoding_errors\u001b[39;49m\u001b[38;5;124;43m\"\u001b[39;49m\u001b[43m,\u001b[49m\u001b[43m \u001b[49m\u001b[38;5;124;43m\"\u001b[39;49m\u001b[38;5;124;43mstrict\u001b[39;49m\u001b[38;5;124;43m\"\u001b[39;49m\u001b[43m)\u001b[49m\u001b[43m,\u001b[49m\n\u001b[0;32m   1743\u001b[0m \u001b[43m    \u001b[49m\u001b[43mstorage_options\u001b[49m\u001b[38;5;241;43m=\u001b[39;49m\u001b[38;5;28;43mself\u001b[39;49m\u001b[38;5;241;43m.\u001b[39;49m\u001b[43moptions\u001b[49m\u001b[38;5;241;43m.\u001b[39;49m\u001b[43mget\u001b[49m\u001b[43m(\u001b[49m\u001b[38;5;124;43m\"\u001b[39;49m\u001b[38;5;124;43mstorage_options\u001b[39;49m\u001b[38;5;124;43m\"\u001b[39;49m\u001b[43m,\u001b[49m\u001b[43m \u001b[49m\u001b[38;5;28;43;01mNone\u001b[39;49;00m\u001b[43m)\u001b[49m\u001b[43m,\u001b[49m\n\u001b[0;32m   1744\u001b[0m \u001b[43m\u001b[49m\u001b[43m)\u001b[49m\n\u001b[0;32m   1745\u001b[0m \u001b[38;5;28;01massert\u001b[39;00m \u001b[38;5;28mself\u001b[39m\u001b[38;5;241m.\u001b[39mhandles \u001b[38;5;129;01mis\u001b[39;00m \u001b[38;5;129;01mnot\u001b[39;00m \u001b[38;5;28;01mNone\u001b[39;00m\n\u001b[0;32m   1746\u001b[0m f \u001b[38;5;241m=\u001b[39m \u001b[38;5;28mself\u001b[39m\u001b[38;5;241m.\u001b[39mhandles\u001b[38;5;241m.\u001b[39mhandle\n",
      "File \u001b[1;32m~\\anaconda3\\envs\\dojo-env\\lib\\site-packages\\pandas\\io\\common.py:856\u001b[0m, in \u001b[0;36mget_handle\u001b[1;34m(path_or_buf, mode, encoding, compression, memory_map, is_text, errors, storage_options)\u001b[0m\n\u001b[0;32m    851\u001b[0m \u001b[38;5;28;01melif\u001b[39;00m \u001b[38;5;28misinstance\u001b[39m(handle, \u001b[38;5;28mstr\u001b[39m):\n\u001b[0;32m    852\u001b[0m     \u001b[38;5;66;03m# Check whether the filename is to be opened in binary mode.\u001b[39;00m\n\u001b[0;32m    853\u001b[0m     \u001b[38;5;66;03m# Binary mode does not support 'encoding' and 'newline'.\u001b[39;00m\n\u001b[0;32m    854\u001b[0m     \u001b[38;5;28;01mif\u001b[39;00m ioargs\u001b[38;5;241m.\u001b[39mencoding \u001b[38;5;129;01mand\u001b[39;00m \u001b[38;5;124m\"\u001b[39m\u001b[38;5;124mb\u001b[39m\u001b[38;5;124m\"\u001b[39m \u001b[38;5;129;01mnot\u001b[39;00m \u001b[38;5;129;01min\u001b[39;00m ioargs\u001b[38;5;241m.\u001b[39mmode:\n\u001b[0;32m    855\u001b[0m         \u001b[38;5;66;03m# Encoding\u001b[39;00m\n\u001b[1;32m--> 856\u001b[0m         handle \u001b[38;5;241m=\u001b[39m \u001b[38;5;28;43mopen\u001b[39;49m\u001b[43m(\u001b[49m\n\u001b[0;32m    857\u001b[0m \u001b[43m            \u001b[49m\u001b[43mhandle\u001b[49m\u001b[43m,\u001b[49m\n\u001b[0;32m    858\u001b[0m \u001b[43m            \u001b[49m\u001b[43mioargs\u001b[49m\u001b[38;5;241;43m.\u001b[39;49m\u001b[43mmode\u001b[49m\u001b[43m,\u001b[49m\n\u001b[0;32m    859\u001b[0m \u001b[43m            \u001b[49m\u001b[43mencoding\u001b[49m\u001b[38;5;241;43m=\u001b[39;49m\u001b[43mioargs\u001b[49m\u001b[38;5;241;43m.\u001b[39;49m\u001b[43mencoding\u001b[49m\u001b[43m,\u001b[49m\n\u001b[0;32m    860\u001b[0m \u001b[43m            \u001b[49m\u001b[43merrors\u001b[49m\u001b[38;5;241;43m=\u001b[39;49m\u001b[43merrors\u001b[49m\u001b[43m,\u001b[49m\n\u001b[0;32m    861\u001b[0m \u001b[43m            \u001b[49m\u001b[43mnewline\u001b[49m\u001b[38;5;241;43m=\u001b[39;49m\u001b[38;5;124;43m\"\u001b[39;49m\u001b[38;5;124;43m\"\u001b[39;49m\u001b[43m,\u001b[49m\n\u001b[0;32m    862\u001b[0m \u001b[43m        \u001b[49m\u001b[43m)\u001b[49m\n\u001b[0;32m    863\u001b[0m     \u001b[38;5;28;01melse\u001b[39;00m:\n\u001b[0;32m    864\u001b[0m         \u001b[38;5;66;03m# Binary mode\u001b[39;00m\n\u001b[0;32m    865\u001b[0m         handle \u001b[38;5;241m=\u001b[39m \u001b[38;5;28mopen\u001b[39m(handle, ioargs\u001b[38;5;241m.\u001b[39mmode)\n",
      "\u001b[1;31mFileNotFoundError\u001b[0m: [Errno 2] No such file or directory: 'API_Data/final_tmdb_data_2010.csv'"
     ]
    }
   ],
   "source": [
    "# load data of years 2010-2020\n",
    "year_2010 = pd.read_csv('API_Data/final_tmdb_data_2010.csv.gz', low_memory = False)\n",
    "year_2011 = pd.read_csv('API_Data/final_tmdb_data_2011.csv', low_memory = False, lineterminator='\\n')\n",
    "year_2012 = pd.read_csv('API_Data/final_tmdb_data_2012.csv', low_memory = False, lineterminator='\\n')\n",
    "year_2013 = pd.read_csv('API_Data/final_tmdb_data_2013.csv', low_memory = False)\n",
    "year_2014 = pd.read_csv('API_Data/final_tmdb_data_2014.csv', low_memory = False, lineterminator='\\n')\n",
    "year_2015 = pd.read_csv('API_Data/final_tmdb_data_2015.csv', low_memory = False, lineterminator='\\n')\n",
    "year_2016 = pd.read_csv('API_Data/final_tmdb_data_2016.csv', low_memory = False)\n",
    "year_2017 = pd.read_csv('API_Data/final_tmdb_data_2017.csv', low_memory = False, lineterminator='\\n')\n",
    "year_2018 = pd.read_csv('API_Data/final_tmdb_data_2018.csv', low_memory = False, lineterminator='\\n')\n",
    "year_2019 = pd.read_csv('API_Data/final_tmdb_data_2019.csv', low_memory = False, lineterminator='\\n')\n",
    "year_2020 = pd.read_csv('API_Data/final_tmdb_data_2020.csv', low_memory = False, lineterminator='\\n')\n"
   ]
  },
  {
   "cell_type": "code",
   "execution_count": 39,
   "id": "13570196",
   "metadata": {},
   "outputs": [
    {
     "data": {
      "text/html": [
       "<div>\n",
       "<style scoped>\n",
       "    .dataframe tbody tr th:only-of-type {\n",
       "        vertical-align: middle;\n",
       "    }\n",
       "\n",
       "    .dataframe tbody tr th {\n",
       "        vertical-align: top;\n",
       "    }\n",
       "\n",
       "    .dataframe thead th {\n",
       "        text-align: right;\n",
       "    }\n",
       "</style>\n",
       "<table border=\"1\" class=\"dataframe\">\n",
       "  <thead>\n",
       "    <tr style=\"text-align: right;\">\n",
       "      <th></th>\n",
       "      <th>imdb_id</th>\n",
       "      <th>adult</th>\n",
       "      <th>backdrop_path</th>\n",
       "      <th>belongs_to_collection</th>\n",
       "      <th>budget</th>\n",
       "      <th>genres</th>\n",
       "      <th>homepage</th>\n",
       "      <th>id</th>\n",
       "      <th>original_language</th>\n",
       "      <th>original_title</th>\n",
       "      <th>...</th>\n",
       "      <th>revenue</th>\n",
       "      <th>runtime</th>\n",
       "      <th>spoken_languages</th>\n",
       "      <th>status</th>\n",
       "      <th>tagline</th>\n",
       "      <th>title</th>\n",
       "      <th>video</th>\n",
       "      <th>vote_average</th>\n",
       "      <th>vote_count</th>\n",
       "      <th>certification</th>\n",
       "    </tr>\n",
       "  </thead>\n",
       "  <tbody>\n",
       "    <tr>\n",
       "      <th>0</th>\n",
       "      <td>0</td>\n",
       "      <td>NaN</td>\n",
       "      <td>NaN</td>\n",
       "      <td>NaN</td>\n",
       "      <td>NaN</td>\n",
       "      <td>NaN</td>\n",
       "      <td>NaN</td>\n",
       "      <td>NaN</td>\n",
       "      <td>NaN</td>\n",
       "      <td>NaN</td>\n",
       "      <td>...</td>\n",
       "      <td>NaN</td>\n",
       "      <td>NaN</td>\n",
       "      <td>NaN</td>\n",
       "      <td>NaN</td>\n",
       "      <td>NaN</td>\n",
       "      <td>NaN</td>\n",
       "      <td>NaN</td>\n",
       "      <td>NaN</td>\n",
       "      <td>NaN</td>\n",
       "      <td>NaN</td>\n",
       "    </tr>\n",
       "    <tr>\n",
       "      <th>1</th>\n",
       "      <td>tt0113026</td>\n",
       "      <td>0.00</td>\n",
       "      <td>/vMFs7nw6P0bIV1jDsQpxAieAVnH.jpg</td>\n",
       "      <td>NaN</td>\n",
       "      <td>10,000,000.00</td>\n",
       "      <td>[{'id': 35, 'name': 'Comedy'}, {'id': 10402, '...</td>\n",
       "      <td>NaN</td>\n",
       "      <td>62,127.00</td>\n",
       "      <td>en</td>\n",
       "      <td>The Fantasticks</td>\n",
       "      <td>...</td>\n",
       "      <td>0.00</td>\n",
       "      <td>86.00</td>\n",
       "      <td>[{'english_name': 'English', 'iso_639_1': 'en'...</td>\n",
       "      <td>Released</td>\n",
       "      <td>Try to remember the first time magic happened</td>\n",
       "      <td>The Fantasticks</td>\n",
       "      <td>0.00</td>\n",
       "      <td>5.50</td>\n",
       "      <td>22.00</td>\n",
       "      <td>NaN</td>\n",
       "    </tr>\n",
       "  </tbody>\n",
       "</table>\n",
       "<p>2 rows × 26 columns</p>\n",
       "</div>"
      ],
      "text/plain": [
       "     imdb_id  adult                     backdrop_path belongs_to_collection  \\\n",
       "0          0    NaN                               NaN                   NaN   \n",
       "1  tt0113026   0.00  /vMFs7nw6P0bIV1jDsQpxAieAVnH.jpg                   NaN   \n",
       "\n",
       "         budget                                             genres homepage  \\\n",
       "0           NaN                                                NaN      NaN   \n",
       "1 10,000,000.00  [{'id': 35, 'name': 'Comedy'}, {'id': 10402, '...      NaN   \n",
       "\n",
       "         id original_language   original_title  ... revenue  runtime  \\\n",
       "0       NaN               NaN              NaN  ...     NaN      NaN   \n",
       "1 62,127.00                en  The Fantasticks  ...    0.00    86.00   \n",
       "\n",
       "                                    spoken_languages    status  \\\n",
       "0                                                NaN       NaN   \n",
       "1  [{'english_name': 'English', 'iso_639_1': 'en'...  Released   \n",
       "\n",
       "                                         tagline            title  video  \\\n",
       "0                                            NaN              NaN    NaN   \n",
       "1  Try to remember the first time magic happened  The Fantasticks   0.00   \n",
       "\n",
       "   vote_average vote_count certification  \n",
       "0           NaN        NaN           NaN  \n",
       "1          5.50      22.00           NaN  \n",
       "\n",
       "[2 rows x 26 columns]"
      ]
     },
     "execution_count": 39,
     "metadata": {},
     "output_type": "execute_result"
    }
   ],
   "source": [
    "# import the data\n",
    "filename = 'Data/tmdb_results_combined_df.csv.gz'\n",
    "firsthypo_df=pd.read_csv(filename)\n",
    "#check that the data loaded\n",
    "firsthypo_df.head(2)"
   ]
  },
  {
   "cell_type": "code",
   "execution_count": 45,
   "id": "6350a7f9",
   "metadata": {},
   "outputs": [
    {
     "name": "stdout",
     "output_type": "stream",
     "text": [
      "<class 'pandas.core.frame.DataFrame'>\n",
      "RangeIndex: 2580 entries, 0 to 2579\n",
      "Data columns (total 26 columns):\n",
      " #   Column                 Non-Null Count  Dtype  \n",
      "---  ------                 --------------  -----  \n",
      " 0   imdb_id                2580 non-null   object \n",
      " 1   adult                  2578 non-null   float64\n",
      " 2   backdrop_path          1412 non-null   object \n",
      " 3   belongs_to_collection  208 non-null    object \n",
      " 4   budget                 2578 non-null   float64\n",
      " 5   genres                 2578 non-null   object \n",
      " 6   homepage               171 non-null    object \n",
      " 7   id                     2578 non-null   float64\n",
      " 8   original_language      2578 non-null   object \n",
      " 9   original_title         2578 non-null   object \n",
      " 10  overview               2529 non-null   object \n",
      " 11  popularity             2578 non-null   float64\n",
      " 12  poster_path            2322 non-null   object \n",
      " 13  production_companies   2578 non-null   object \n",
      " 14  production_countries   2578 non-null   object \n",
      " 15  release_date           2554 non-null   object \n",
      " 16  revenue                2578 non-null   float64\n",
      " 17  runtime                2578 non-null   float64\n",
      " 18  spoken_languages       2578 non-null   object \n",
      " 19  status                 2578 non-null   object \n",
      " 20  tagline                1109 non-null   object \n",
      " 21  title                  2578 non-null   object \n",
      " 22  video                  2578 non-null   float64\n",
      " 23  vote_average           2578 non-null   float64\n",
      " 24  vote_count             2578 non-null   float64\n",
      " 25  certification          815 non-null    object \n",
      "dtypes: float64(9), object(17)\n",
      "memory usage: 524.2+ KB\n"
     ]
    }
   ],
   "source": [
    "#check info\n",
    "firsthypo_df.info()"
   ]
  },
  {
   "cell_type": "code",
   "execution_count": 46,
   "id": "2ed46645",
   "metadata": {},
   "outputs": [
    {
     "data": {
      "text/plain": [
       "R          467\n",
       "PG-13      182\n",
       "NR          71\n",
       "PG          63\n",
       "G           25\n",
       "NC-17        6\n",
       "Unrated      1\n",
       "Name: certification, dtype: int64"
      ]
     },
     "execution_count": 46,
     "metadata": {},
     "output_type": "execute_result"
    }
   ],
   "source": [
    "# check the value counts on certification column for first hypothesis\n",
    "firsthypo_df['certification'].value_counts()"
   ]
  },
  {
   "cell_type": "code",
   "execution_count": 47,
   "id": "65d35083",
   "metadata": {},
   "outputs": [
    {
     "name": "stdout",
     "output_type": "stream",
     "text": [
      "0.68% of the data in the certification column is missing\n"
     ]
    }
   ],
   "source": [
    "# explore the  missing data\n",
    "num_missing = firsthypo_df['certification'].isna().sum()\n",
    "\n",
    "total_rows = firsthypo_df.shape[0]\n",
    "\n",
    "percent_missing = num_missing / total_rows\n",
    "print(f'{percent_missing:.2f}% of the data in the certification column is missing')"
   ]
  },
  {
   "cell_type": "code",
   "execution_count": 49,
   "id": "46bcf146",
   "metadata": {},
   "outputs": [],
   "source": [
    "# drop the unrated column\n",
    "firsthypo_df = firsthypo_df.loc[firsthypo_df['certification'] != 'Unrated']"
   ]
  },
  {
   "cell_type": "code",
   "execution_count": 35,
   "id": "c82faf94",
   "metadata": {},
   "outputs": [],
   "source": [
    "# drop the NC-17 column\n",
    "firsthypo_df = firsthypo_df.loc[firsthypo_df['certification'] != 'NC-17']"
   ]
  },
  {
   "cell_type": "code",
   "execution_count": 50,
   "id": "5780b44b",
   "metadata": {},
   "outputs": [
    {
     "data": {
      "text/plain": [
       "R        467\n",
       "PG-13    182\n",
       "NR        71\n",
       "PG        63\n",
       "G         25\n",
       "NC-17      6\n",
       "Name: certification, dtype: int64"
      ]
     },
     "execution_count": 50,
     "metadata": {},
     "output_type": "execute_result"
    }
   ],
   "source": [
    "# resolve small data counts by creating  new column  and check value\n",
    "firsthypo_df['certification'].value_counts()"
   ]
  },
  {
   "cell_type": "code",
   "execution_count": 31,
   "id": "e07b33dc",
   "metadata": {},
   "outputs": [],
   "source": [
    "#drop null values in certification column\n",
    "firsthypo_df = firsthypo_df.dropna(subset=['certification'])"
   ]
  },
  {
   "cell_type": "code",
   "execution_count": 32,
   "id": "2b9eb395",
   "metadata": {},
   "outputs": [
    {
     "data": {
      "text/plain": [
       "count                               814\n",
       "unique                              332\n",
       "top       [{'id': 18, 'name': 'Drama'}]\n",
       "freq                                 70\n",
       "Name: genres, dtype: object"
      ]
     },
     "execution_count": 32,
     "metadata": {},
     "output_type": "execute_result"
    }
   ],
   "source": [
    "firsthypo_df['genres'].describe()\n"
   ]
  },
  {
   "cell_type": "code",
   "execution_count": 7,
   "id": "a748e60f",
   "metadata": {
    "scrolled": true
   },
   "outputs": [
    {
     "data": {
      "text/plain": [
       "R        205\n",
       "PG-13    125\n",
       "PG        34\n",
       "G         13\n",
       "NR        12\n",
       "Name: certification, dtype: int64"
      ]
     },
     "execution_count": 7,
     "metadata": {},
     "output_type": "execute_result"
    }
   ],
   "source": [
    "# resolve small data counts by creating  new column  and check value\n",
    "firsthypo_df['certification'].value_counts()"
   ]
  },
  {
   "cell_type": "markdown",
   "id": "8a20d661",
   "metadata": {},
   "source": [
    "## Second Hypothesis prep"
   ]
  },
  {
   "cell_type": "code",
   "execution_count": 8,
   "id": "a0d99160",
   "metadata": {},
   "outputs": [
    {
     "data": {
      "text/html": [
       "<div>\n",
       "<style scoped>\n",
       "    .dataframe tbody tr th:only-of-type {\n",
       "        vertical-align: middle;\n",
       "    }\n",
       "\n",
       "    .dataframe tbody tr th {\n",
       "        vertical-align: top;\n",
       "    }\n",
       "\n",
       "    .dataframe thead th {\n",
       "        text-align: right;\n",
       "    }\n",
       "</style>\n",
       "<table border=\"1\" class=\"dataframe\">\n",
       "  <thead>\n",
       "    <tr style=\"text-align: right;\">\n",
       "      <th></th>\n",
       "      <th>imdb_id</th>\n",
       "      <th>adult</th>\n",
       "      <th>backdrop_path</th>\n",
       "      <th>belongs_to_collection</th>\n",
       "      <th>budget</th>\n",
       "      <th>genres</th>\n",
       "      <th>homepage</th>\n",
       "      <th>id</th>\n",
       "      <th>original_language</th>\n",
       "      <th>original_title</th>\n",
       "      <th>...</th>\n",
       "      <th>revenue</th>\n",
       "      <th>runtime</th>\n",
       "      <th>spoken_languages</th>\n",
       "      <th>status</th>\n",
       "      <th>tagline</th>\n",
       "      <th>title</th>\n",
       "      <th>video</th>\n",
       "      <th>vote_average</th>\n",
       "      <th>vote_count</th>\n",
       "      <th>certification</th>\n",
       "    </tr>\n",
       "  </thead>\n",
       "  <tbody>\n",
       "    <tr>\n",
       "      <th>0</th>\n",
       "      <td>0</td>\n",
       "      <td>NaN</td>\n",
       "      <td>NaN</td>\n",
       "      <td>NaN</td>\n",
       "      <td>NaN</td>\n",
       "      <td>NaN</td>\n",
       "      <td>NaN</td>\n",
       "      <td>NaN</td>\n",
       "      <td>NaN</td>\n",
       "      <td>NaN</td>\n",
       "      <td>...</td>\n",
       "      <td>NaN</td>\n",
       "      <td>NaN</td>\n",
       "      <td>NaN</td>\n",
       "      <td>NaN</td>\n",
       "      <td>NaN</td>\n",
       "      <td>NaN</td>\n",
       "      <td>NaN</td>\n",
       "      <td>NaN</td>\n",
       "      <td>NaN</td>\n",
       "      <td>NaN</td>\n",
       "    </tr>\n",
       "    <tr>\n",
       "      <th>1</th>\n",
       "      <td>tt0069049</td>\n",
       "      <td>0.00</td>\n",
       "      <td>/zjG95oDnBcFKMPgBEmmuNVOMC90.jpg</td>\n",
       "      <td>None</td>\n",
       "      <td>12,000,000.00</td>\n",
       "      <td>[{'id': 18, 'name': 'Drama'}]</td>\n",
       "      <td>https://www.netflix.com/title/80085566</td>\n",
       "      <td>299,782.00</td>\n",
       "      <td>en</td>\n",
       "      <td>The Other Side of the Wind</td>\n",
       "      <td>...</td>\n",
       "      <td>0.00</td>\n",
       "      <td>122.00</td>\n",
       "      <td>[{'english_name': 'English', 'iso_639_1': 'en'...</td>\n",
       "      <td>Released</td>\n",
       "      <td>40 years in the making</td>\n",
       "      <td>The Other Side of the Wind</td>\n",
       "      <td>0.00</td>\n",
       "      <td>6.70</td>\n",
       "      <td>155.00</td>\n",
       "      <td>R</td>\n",
       "    </tr>\n",
       "    <tr>\n",
       "      <th>2</th>\n",
       "      <td>tt0192528</td>\n",
       "      <td>0.00</td>\n",
       "      <td>/kOxAfSyHZEDEhOCic8TxXprUg4T.jpg</td>\n",
       "      <td>None</td>\n",
       "      <td>5,000,000.00</td>\n",
       "      <td>[{'id': 18, 'name': 'Drama'}]</td>\n",
       "      <td>None</td>\n",
       "      <td>567,662.00</td>\n",
       "      <td>en</td>\n",
       "      <td>Reverse Heaven</td>\n",
       "      <td>...</td>\n",
       "      <td>0.00</td>\n",
       "      <td>104.00</td>\n",
       "      <td>[{'english_name': 'English', 'iso_639_1': 'en'...</td>\n",
       "      <td>Released</td>\n",
       "      <td>Heaven's in trouble and there's one man who ca...</td>\n",
       "      <td>Heaven &amp; Hell</td>\n",
       "      <td>0.00</td>\n",
       "      <td>7.20</td>\n",
       "      <td>5.00</td>\n",
       "      <td></td>\n",
       "    </tr>\n",
       "    <tr>\n",
       "      <th>3</th>\n",
       "      <td>tt0360556</td>\n",
       "      <td>0.00</td>\n",
       "      <td>/7oy4miyq4WYYy0xtX6lbNVPrEsr.jpg</td>\n",
       "      <td>None</td>\n",
       "      <td>0.00</td>\n",
       "      <td>[{'id': 18, 'name': 'Drama'}, {'id': 878, 'nam...</td>\n",
       "      <td>https://www.hbo.com/movies/fahrenheit-451</td>\n",
       "      <td>401,905.00</td>\n",
       "      <td>en</td>\n",
       "      <td>Fahrenheit 451</td>\n",
       "      <td>...</td>\n",
       "      <td>0.00</td>\n",
       "      <td>100.00</td>\n",
       "      <td>[{'english_name': 'English', 'iso_639_1': 'en'...</td>\n",
       "      <td>Released</td>\n",
       "      <td>Knowledge is a dangerous thing</td>\n",
       "      <td>Fahrenheit 451</td>\n",
       "      <td>0.00</td>\n",
       "      <td>5.40</td>\n",
       "      <td>686.00</td>\n",
       "      <td>PG-13</td>\n",
       "    </tr>\n",
       "    <tr>\n",
       "      <th>4</th>\n",
       "      <td>tt0365545</td>\n",
       "      <td>0.00</td>\n",
       "      <td>/ljTYcQ3pkzYF52Z8ev1Z1UThnPy.jpg</td>\n",
       "      <td>None</td>\n",
       "      <td>0.00</td>\n",
       "      <td>[{'id': 35, 'name': 'Comedy'}, {'id': 10749, '...</td>\n",
       "      <td>https://www.netflix.com/title/80189630</td>\n",
       "      <td>519,035.00</td>\n",
       "      <td>en</td>\n",
       "      <td>Nappily Ever After</td>\n",
       "      <td>...</td>\n",
       "      <td>0.00</td>\n",
       "      <td>100.00</td>\n",
       "      <td>[{'english_name': 'English', 'iso_639_1': 'en'...</td>\n",
       "      <td>Released</td>\n",
       "      <td>Let yourself grow</td>\n",
       "      <td>Nappily Ever After</td>\n",
       "      <td>0.00</td>\n",
       "      <td>7.20</td>\n",
       "      <td>752.00</td>\n",
       "      <td></td>\n",
       "    </tr>\n",
       "  </tbody>\n",
       "</table>\n",
       "<p>5 rows × 26 columns</p>\n",
       "</div>"
      ],
      "text/plain": [
       "     imdb_id  adult                     backdrop_path belongs_to_collection  \\\n",
       "0          0    NaN                               NaN                   NaN   \n",
       "1  tt0069049   0.00  /zjG95oDnBcFKMPgBEmmuNVOMC90.jpg                  None   \n",
       "2  tt0192528   0.00  /kOxAfSyHZEDEhOCic8TxXprUg4T.jpg                  None   \n",
       "3  tt0360556   0.00  /7oy4miyq4WYYy0xtX6lbNVPrEsr.jpg                  None   \n",
       "4  tt0365545   0.00  /ljTYcQ3pkzYF52Z8ev1Z1UThnPy.jpg                  None   \n",
       "\n",
       "         budget                                             genres  \\\n",
       "0           NaN                                                NaN   \n",
       "1 12,000,000.00                      [{'id': 18, 'name': 'Drama'}]   \n",
       "2  5,000,000.00                      [{'id': 18, 'name': 'Drama'}]   \n",
       "3          0.00  [{'id': 18, 'name': 'Drama'}, {'id': 878, 'nam...   \n",
       "4          0.00  [{'id': 35, 'name': 'Comedy'}, {'id': 10749, '...   \n",
       "\n",
       "                                    homepage         id original_language  \\\n",
       "0                                        NaN        NaN               NaN   \n",
       "1     https://www.netflix.com/title/80085566 299,782.00                en   \n",
       "2                                       None 567,662.00                en   \n",
       "3  https://www.hbo.com/movies/fahrenheit-451 401,905.00                en   \n",
       "4     https://www.netflix.com/title/80189630 519,035.00                en   \n",
       "\n",
       "               original_title  ... revenue  runtime  \\\n",
       "0                         NaN  ...     NaN      NaN   \n",
       "1  The Other Side of the Wind  ...    0.00   122.00   \n",
       "2              Reverse Heaven  ...    0.00   104.00   \n",
       "3              Fahrenheit 451  ...    0.00   100.00   \n",
       "4          Nappily Ever After  ...    0.00   100.00   \n",
       "\n",
       "                                    spoken_languages    status  \\\n",
       "0                                                NaN       NaN   \n",
       "1  [{'english_name': 'English', 'iso_639_1': 'en'...  Released   \n",
       "2  [{'english_name': 'English', 'iso_639_1': 'en'...  Released   \n",
       "3  [{'english_name': 'English', 'iso_639_1': 'en'...  Released   \n",
       "4  [{'english_name': 'English', 'iso_639_1': 'en'...  Released   \n",
       "\n",
       "                                             tagline  \\\n",
       "0                                                NaN   \n",
       "1                             40 years in the making   \n",
       "2  Heaven's in trouble and there's one man who ca...   \n",
       "3                     Knowledge is a dangerous thing   \n",
       "4                                  Let yourself grow   \n",
       "\n",
       "                        title  video  vote_average vote_count certification  \n",
       "0                         NaN    NaN           NaN        NaN           NaN  \n",
       "1  The Other Side of the Wind   0.00          6.70     155.00             R  \n",
       "2               Heaven & Hell   0.00          7.20       5.00                \n",
       "3              Fahrenheit 451   0.00          5.40     686.00         PG-13  \n",
       "4          Nappily Ever After   0.00          7.20     752.00                \n",
       "\n",
       "[5 rows x 26 columns]"
      ]
     },
     "execution_count": 8,
     "metadata": {},
     "output_type": "execute_result"
    }
   ],
   "source": [
    "#read the data\n",
    "df_2018 = pd.read_json('API_Data/tmdb_api_results_2018.json')\n",
    "df_2018.head()\n"
   ]
  },
  {
   "cell_type": "code",
   "execution_count": 9,
   "id": "555c0ce3",
   "metadata": {},
   "outputs": [
    {
     "data": {
      "text/html": [
       "<div>\n",
       "<style scoped>\n",
       "    .dataframe tbody tr th:only-of-type {\n",
       "        vertical-align: middle;\n",
       "    }\n",
       "\n",
       "    .dataframe tbody tr th {\n",
       "        vertical-align: top;\n",
       "    }\n",
       "\n",
       "    .dataframe thead th {\n",
       "        text-align: right;\n",
       "    }\n",
       "</style>\n",
       "<table border=\"1\" class=\"dataframe\">\n",
       "  <thead>\n",
       "    <tr style=\"text-align: right;\">\n",
       "      <th></th>\n",
       "      <th>imdb_id</th>\n",
       "      <th>adult</th>\n",
       "      <th>backdrop_path</th>\n",
       "      <th>belongs_to_collection</th>\n",
       "      <th>budget</th>\n",
       "      <th>genres</th>\n",
       "      <th>homepage</th>\n",
       "      <th>id</th>\n",
       "      <th>original_language</th>\n",
       "      <th>original_title</th>\n",
       "      <th>...</th>\n",
       "      <th>revenue</th>\n",
       "      <th>runtime</th>\n",
       "      <th>spoken_languages</th>\n",
       "      <th>status</th>\n",
       "      <th>tagline</th>\n",
       "      <th>title</th>\n",
       "      <th>video</th>\n",
       "      <th>vote_average</th>\n",
       "      <th>vote_count</th>\n",
       "      <th>certification</th>\n",
       "    </tr>\n",
       "  </thead>\n",
       "  <tbody>\n",
       "    <tr>\n",
       "      <th>0</th>\n",
       "      <td>0</td>\n",
       "      <td>NaN</td>\n",
       "      <td>NaN</td>\n",
       "      <td>NaN</td>\n",
       "      <td>NaN</td>\n",
       "      <td>NaN</td>\n",
       "      <td>NaN</td>\n",
       "      <td>NaN</td>\n",
       "      <td>NaN</td>\n",
       "      <td>NaN</td>\n",
       "      <td>...</td>\n",
       "      <td>NaN</td>\n",
       "      <td>NaN</td>\n",
       "      <td>NaN</td>\n",
       "      <td>NaN</td>\n",
       "      <td>NaN</td>\n",
       "      <td>NaN</td>\n",
       "      <td>NaN</td>\n",
       "      <td>NaN</td>\n",
       "      <td>NaN</td>\n",
       "      <td>NaN</td>\n",
       "    </tr>\n",
       "    <tr>\n",
       "      <th>1</th>\n",
       "      <td>tt0035423</td>\n",
       "      <td>0.00</td>\n",
       "      <td>/hfeiSfWYujh6MKhtGTXyK3DD4nN.jpg</td>\n",
       "      <td>NaN</td>\n",
       "      <td>48,000,000.00</td>\n",
       "      <td>[{'id': 10749, 'name': 'Romance'}, {'id': 14, ...</td>\n",
       "      <td>NaN</td>\n",
       "      <td>11,232.00</td>\n",
       "      <td>en</td>\n",
       "      <td>Kate &amp; Leopold</td>\n",
       "      <td>...</td>\n",
       "      <td>76,019,048.00</td>\n",
       "      <td>118.00</td>\n",
       "      <td>[{'english_name': 'English', 'iso_639_1': 'en'...</td>\n",
       "      <td>Released</td>\n",
       "      <td>If they lived in the same century, they'd be p...</td>\n",
       "      <td>Kate &amp; Leopold</td>\n",
       "      <td>0.00</td>\n",
       "      <td>6.33</td>\n",
       "      <td>1,195.00</td>\n",
       "      <td>PG-13</td>\n",
       "    </tr>\n",
       "  </tbody>\n",
       "</table>\n",
       "<p>2 rows × 26 columns</p>\n",
       "</div>"
      ],
      "text/plain": [
       "     imdb_id  adult                     backdrop_path belongs_to_collection  \\\n",
       "0          0    NaN                               NaN                   NaN   \n",
       "1  tt0035423   0.00  /hfeiSfWYujh6MKhtGTXyK3DD4nN.jpg                   NaN   \n",
       "\n",
       "         budget                                             genres homepage  \\\n",
       "0           NaN                                                NaN      NaN   \n",
       "1 48,000,000.00  [{'id': 10749, 'name': 'Romance'}, {'id': 14, ...      NaN   \n",
       "\n",
       "         id original_language  original_title  ...       revenue  runtime  \\\n",
       "0       NaN               NaN             NaN  ...           NaN      NaN   \n",
       "1 11,232.00                en  Kate & Leopold  ... 76,019,048.00   118.00   \n",
       "\n",
       "                                    spoken_languages    status  \\\n",
       "0                                                NaN       NaN   \n",
       "1  [{'english_name': 'English', 'iso_639_1': 'en'...  Released   \n",
       "\n",
       "                                             tagline           title  video  \\\n",
       "0                                                NaN             NaN    NaN   \n",
       "1  If they lived in the same century, they'd be p...  Kate & Leopold   0.00   \n",
       "\n",
       "   vote_average vote_count certification  \n",
       "0           NaN        NaN           NaN  \n",
       "1          6.33   1,195.00         PG-13  \n",
       "\n",
       "[2 rows x 26 columns]"
      ]
     },
     "execution_count": 9,
     "metadata": {},
     "output_type": "execute_result"
    }
   ],
   "source": [
    "#loading 2021 data, errors in reading 2020 data\n",
    "df_2021 = pd.read_csv('API_Data/final_tmdb_data_2001.csv.gz', low_memory=False)\n",
    "df_2021.head(2)"
   ]
  },
  {
   "cell_type": "code",
   "execution_count": 10,
   "id": "bae36bd1",
   "metadata": {},
   "outputs": [],
   "source": [
    "# create one dataframe\n",
    "combinedyears = pd.concat([df_2018, df_2021])"
   ]
  },
  {
   "cell_type": "code",
   "execution_count": 11,
   "id": "02bdb99b",
   "metadata": {},
   "outputs": [],
   "source": [
    "#seperate out years\n",
    "combinedyears['release_date'] = pd.to_datetime(combinedyears['release_date'])"
   ]
  },
  {
   "cell_type": "code",
   "execution_count": 12,
   "id": "23afbe74",
   "metadata": {},
   "outputs": [
    {
     "name": "stdout",
     "output_type": "stream",
     "text": [
      "<class 'pandas.core.frame.DataFrame'>\n",
      "Int64Index: 5857 entries, 0 to 1336\n",
      "Data columns (total 27 columns):\n",
      " #   Column                 Non-Null Count  Dtype         \n",
      "---  ------                 --------------  -----         \n",
      " 0   imdb_id                5857 non-null   object        \n",
      " 1   adult                  5855 non-null   float64       \n",
      " 2   backdrop_path          4170 non-null   object        \n",
      " 3   belongs_to_collection  319 non-null    object        \n",
      " 4   budget                 5855 non-null   float64       \n",
      " 5   genres                 5855 non-null   object        \n",
      " 6   homepage               4182 non-null   object        \n",
      " 7   id                     5855 non-null   float64       \n",
      " 8   original_language      5855 non-null   object        \n",
      " 9   original_title         5855 non-null   object        \n",
      " 10  overview               5827 non-null   object        \n",
      " 11  popularity             5855 non-null   float64       \n",
      " 12  poster_path            5612 non-null   object        \n",
      " 13  production_companies   5855 non-null   object        \n",
      " 14  production_countries   5855 non-null   object        \n",
      " 15  release_date           5759 non-null   datetime64[ns]\n",
      " 16  revenue                5855 non-null   float64       \n",
      " 17  runtime                5815 non-null   float64       \n",
      " 18  spoken_languages       5855 non-null   object        \n",
      " 19  status                 5855 non-null   object        \n",
      " 20  tagline                5073 non-null   object        \n",
      " 21  title                  5855 non-null   object        \n",
      " 22  video                  5855 non-null   float64       \n",
      " 23  vote_average           5855 non-null   float64       \n",
      " 24  vote_count             5855 non-null   float64       \n",
      " 25  certification          2882 non-null   object        \n",
      " 26  year                   5759 non-null   float64       \n",
      "dtypes: datetime64[ns](1), float64(10), object(16)\n",
      "memory usage: 1.3+ MB\n"
     ]
    }
   ],
   "source": [
    "#create year column\n",
    "combinedyears['year'] = combinedyears['release_date'].dt.year\n",
    "combinedyears.info()"
   ]
  },
  {
   "cell_type": "code",
   "execution_count": 13,
   "id": "0639d527",
   "metadata": {},
   "outputs": [],
   "source": [
    "# drop null values\n",
    "combinedyears = combinedyears.dropna(subset=['year','revenue'])"
   ]
  },
  {
   "cell_type": "code",
   "execution_count": 14,
   "id": "5b4bab61",
   "metadata": {},
   "outputs": [],
   "source": [
    "#create 2001 column\n",
    "combinedyears['year_2021'] = combinedyears['year'] == 2021"
   ]
  },
  {
   "cell_type": "code",
   "execution_count": 15,
   "id": "38a47944",
   "metadata": {},
   "outputs": [
    {
     "data": {
      "text/plain": [
       "False    5736\n",
       "True       23\n",
       "Name: year_2021, dtype: int64"
      ]
     },
     "execution_count": 15,
     "metadata": {},
     "output_type": "execute_result"
    }
   ],
   "source": [
    "#check values\n",
    "combinedyears['year_2021'].value_counts()"
   ]
  },
  {
   "cell_type": "code",
   "execution_count": 16,
   "id": "a8a5910e",
   "metadata": {},
   "outputs": [],
   "source": [
    "## save list of columns needed for each group\n",
    "needed_cols = ['year_2021', 'revenue']"
   ]
  },
  {
   "cell_type": "code",
   "execution_count": 17,
   "id": "ee64f202",
   "metadata": {},
   "outputs": [
    {
     "data": {
      "text/html": [
       "<div>\n",
       "<style scoped>\n",
       "    .dataframe tbody tr th:only-of-type {\n",
       "        vertical-align: middle;\n",
       "    }\n",
       "\n",
       "    .dataframe tbody tr th {\n",
       "        vertical-align: top;\n",
       "    }\n",
       "\n",
       "    .dataframe thead th {\n",
       "        text-align: right;\n",
       "    }\n",
       "</style>\n",
       "<table border=\"1\" class=\"dataframe\">\n",
       "  <thead>\n",
       "    <tr style=\"text-align: right;\">\n",
       "      <th></th>\n",
       "      <th>year_2021</th>\n",
       "      <th>revenue</th>\n",
       "    </tr>\n",
       "  </thead>\n",
       "  <tbody>\n",
       "    <tr>\n",
       "      <th>123</th>\n",
       "      <td>True</td>\n",
       "      <td>0.00</td>\n",
       "    </tr>\n",
       "    <tr>\n",
       "      <th>126</th>\n",
       "      <td>True</td>\n",
       "      <td>0.00</td>\n",
       "    </tr>\n",
       "    <tr>\n",
       "      <th>127</th>\n",
       "      <td>True</td>\n",
       "      <td>0.00</td>\n",
       "    </tr>\n",
       "    <tr>\n",
       "      <th>248</th>\n",
       "      <td>True</td>\n",
       "      <td>0.00</td>\n",
       "    </tr>\n",
       "    <tr>\n",
       "      <th>600</th>\n",
       "      <td>True</td>\n",
       "      <td>0.00</td>\n",
       "    </tr>\n",
       "    <tr>\n",
       "      <th>764</th>\n",
       "      <td>True</td>\n",
       "      <td>0.00</td>\n",
       "    </tr>\n",
       "    <tr>\n",
       "      <th>980</th>\n",
       "      <td>True</td>\n",
       "      <td>0.00</td>\n",
       "    </tr>\n",
       "    <tr>\n",
       "      <th>1022</th>\n",
       "      <td>True</td>\n",
       "      <td>0.00</td>\n",
       "    </tr>\n",
       "    <tr>\n",
       "      <th>1260</th>\n",
       "      <td>True</td>\n",
       "      <td>0.00</td>\n",
       "    </tr>\n",
       "    <tr>\n",
       "      <th>1306</th>\n",
       "      <td>True</td>\n",
       "      <td>0.00</td>\n",
       "    </tr>\n",
       "    <tr>\n",
       "      <th>1314</th>\n",
       "      <td>True</td>\n",
       "      <td>0.00</td>\n",
       "    </tr>\n",
       "    <tr>\n",
       "      <th>1887</th>\n",
       "      <td>True</td>\n",
       "      <td>0.00</td>\n",
       "    </tr>\n",
       "    <tr>\n",
       "      <th>1972</th>\n",
       "      <td>True</td>\n",
       "      <td>0.00</td>\n",
       "    </tr>\n",
       "    <tr>\n",
       "      <th>2049</th>\n",
       "      <td>True</td>\n",
       "      <td>0.00</td>\n",
       "    </tr>\n",
       "    <tr>\n",
       "      <th>2106</th>\n",
       "      <td>True</td>\n",
       "      <td>0.00</td>\n",
       "    </tr>\n",
       "    <tr>\n",
       "      <th>2381</th>\n",
       "      <td>True</td>\n",
       "      <td>0.00</td>\n",
       "    </tr>\n",
       "    <tr>\n",
       "      <th>2689</th>\n",
       "      <td>True</td>\n",
       "      <td>0.00</td>\n",
       "    </tr>\n",
       "    <tr>\n",
       "      <th>2838</th>\n",
       "      <td>True</td>\n",
       "      <td>0.00</td>\n",
       "    </tr>\n",
       "    <tr>\n",
       "      <th>3528</th>\n",
       "      <td>True</td>\n",
       "      <td>0.00</td>\n",
       "    </tr>\n",
       "    <tr>\n",
       "      <th>4018</th>\n",
       "      <td>True</td>\n",
       "      <td>0.00</td>\n",
       "    </tr>\n",
       "    <tr>\n",
       "      <th>4116</th>\n",
       "      <td>True</td>\n",
       "      <td>0.00</td>\n",
       "    </tr>\n",
       "    <tr>\n",
       "      <th>4495</th>\n",
       "      <td>True</td>\n",
       "      <td>0.00</td>\n",
       "    </tr>\n",
       "    <tr>\n",
       "      <th>712</th>\n",
       "      <td>True</td>\n",
       "      <td>0.00</td>\n",
       "    </tr>\n",
       "  </tbody>\n",
       "</table>\n",
       "</div>"
      ],
      "text/plain": [
       "      year_2021  revenue\n",
       "123        True     0.00\n",
       "126        True     0.00\n",
       "127        True     0.00\n",
       "248        True     0.00\n",
       "600        True     0.00\n",
       "764        True     0.00\n",
       "980        True     0.00\n",
       "1022       True     0.00\n",
       "1260       True     0.00\n",
       "1306       True     0.00\n",
       "1314       True     0.00\n",
       "1887       True     0.00\n",
       "1972       True     0.00\n",
       "2049       True     0.00\n",
       "2106       True     0.00\n",
       "2381       True     0.00\n",
       "2689       True     0.00\n",
       "2838       True     0.00\n",
       "3528       True     0.00\n",
       "4018       True     0.00\n",
       "4116       True     0.00\n",
       "4495       True     0.00\n",
       "712        True     0.00"
      ]
     },
     "execution_count": 17,
     "metadata": {},
     "output_type": "execute_result"
    }
   ],
   "source": [
    "## save year_2021 in separate variable\n",
    "year_2021_df = combinedyears.loc[combinedyears['year_2021']==True, needed_cols]\n",
    "year_2021_df"
   ]
  },
  {
   "cell_type": "code",
   "execution_count": 18,
   "id": "11dae3a7",
   "metadata": {},
   "outputs": [
    {
     "data": {
      "text/html": [
       "<div>\n",
       "<style scoped>\n",
       "    .dataframe tbody tr th:only-of-type {\n",
       "        vertical-align: middle;\n",
       "    }\n",
       "\n",
       "    .dataframe tbody tr th {\n",
       "        vertical-align: top;\n",
       "    }\n",
       "\n",
       "    .dataframe thead th {\n",
       "        text-align: right;\n",
       "    }\n",
       "</style>\n",
       "<table border=\"1\" class=\"dataframe\">\n",
       "  <thead>\n",
       "    <tr style=\"text-align: right;\">\n",
       "      <th></th>\n",
       "      <th>year_2021</th>\n",
       "      <th>revenue</th>\n",
       "    </tr>\n",
       "  </thead>\n",
       "  <tbody>\n",
       "    <tr>\n",
       "      <th>1</th>\n",
       "      <td>False</td>\n",
       "      <td>0.00</td>\n",
       "    </tr>\n",
       "    <tr>\n",
       "      <th>2</th>\n",
       "      <td>False</td>\n",
       "      <td>0.00</td>\n",
       "    </tr>\n",
       "    <tr>\n",
       "      <th>3</th>\n",
       "      <td>False</td>\n",
       "      <td>0.00</td>\n",
       "    </tr>\n",
       "    <tr>\n",
       "      <th>4</th>\n",
       "      <td>False</td>\n",
       "      <td>0.00</td>\n",
       "    </tr>\n",
       "    <tr>\n",
       "      <th>5</th>\n",
       "      <td>False</td>\n",
       "      <td>0.00</td>\n",
       "    </tr>\n",
       "    <tr>\n",
       "      <th>...</th>\n",
       "      <td>...</td>\n",
       "      <td>...</td>\n",
       "    </tr>\n",
       "    <tr>\n",
       "      <th>1332</th>\n",
       "      <td>False</td>\n",
       "      <td>0.00</td>\n",
       "    </tr>\n",
       "    <tr>\n",
       "      <th>1333</th>\n",
       "      <td>False</td>\n",
       "      <td>0.00</td>\n",
       "    </tr>\n",
       "    <tr>\n",
       "      <th>1334</th>\n",
       "      <td>False</td>\n",
       "      <td>0.00</td>\n",
       "    </tr>\n",
       "    <tr>\n",
       "      <th>1335</th>\n",
       "      <td>False</td>\n",
       "      <td>0.00</td>\n",
       "    </tr>\n",
       "    <tr>\n",
       "      <th>1336</th>\n",
       "      <td>False</td>\n",
       "      <td>0.00</td>\n",
       "    </tr>\n",
       "  </tbody>\n",
       "</table>\n",
       "<p>5736 rows × 2 columns</p>\n",
       "</div>"
      ],
      "text/plain": [
       "      year_2021  revenue\n",
       "1         False     0.00\n",
       "2         False     0.00\n",
       "3         False     0.00\n",
       "4         False     0.00\n",
       "5         False     0.00\n",
       "...         ...      ...\n",
       "1332      False     0.00\n",
       "1333      False     0.00\n",
       "1334      False     0.00\n",
       "1335      False     0.00\n",
       "1336      False     0.00\n",
       "\n",
       "[5736 rows x 2 columns]"
      ]
     },
     "execution_count": 18,
     "metadata": {},
     "output_type": "execute_result"
    }
   ],
   "source": [
    "## save year_2018 in separate variable\n",
    "year_2018_df = combinedyears.loc[combinedyears['year_2021']==False, needed_cols]\n",
    "year_2018_df"
   ]
  },
  {
   "cell_type": "code",
   "execution_count": 19,
   "id": "acf01432",
   "metadata": {},
   "outputs": [
    {
     "data": {
      "text/plain": [
       "123    0.00\n",
       "126    0.00\n",
       "127    0.00\n",
       "248    0.00\n",
       "600    0.00\n",
       "764    0.00\n",
       "980    0.00\n",
       "1022   0.00\n",
       "1260   0.00\n",
       "1306   0.00\n",
       "1314   0.00\n",
       "1887   0.00\n",
       "1972   0.00\n",
       "2049   0.00\n",
       "2106   0.00\n",
       "2381   0.00\n",
       "2689   0.00\n",
       "2838   0.00\n",
       "3528   0.00\n",
       "4018   0.00\n",
       "4116   0.00\n",
       "4495   0.00\n",
       "712    0.00\n",
       "Name: revenue, dtype: float64"
      ]
     },
     "execution_count": 19,
     "metadata": {},
     "output_type": "execute_result"
    }
   ],
   "source": [
    "## Saving JUST the numeric col as final group variables\n",
    "year_2021_group = year_2021_df['revenue']\n",
    "year_2018_group = year_2018_df['revenue']\n",
    "year_2021_group"
   ]
  },
  {
   "cell_type": "markdown",
   "id": "634d1af3",
   "metadata": {},
   "source": [
    "## Third Hypothesis prep"
   ]
  },
  {
   "cell_type": "code",
   "execution_count": 20,
   "id": "5dd52c5a",
   "metadata": {
    "scrolled": true
   },
   "outputs": [
    {
     "data": {
      "text/plain": [
       "count   546.00\n",
       "mean    104.60\n",
       "std      22.40\n",
       "min       0.00\n",
       "25%      91.00\n",
       "50%     100.00\n",
       "75%     114.00\n",
       "max     224.00\n",
       "Name: runtime, dtype: float64"
      ]
     },
     "execution_count": 20,
     "metadata": {},
     "output_type": "execute_result"
    }
   ],
   "source": [
    "#explore runtime\n",
    "firsthypo_df['runtime'].describe()"
   ]
  },
  {
   "cell_type": "code",
   "execution_count": 21,
   "id": "496f8ffd",
   "metadata": {},
   "outputs": [
    {
     "data": {
      "text/plain": [
       "90.00     28\n",
       "99.00     18\n",
       "95.00     18\n",
       "108.00    18\n",
       "98.00     18\n",
       "          ..\n",
       "199.00     1\n",
       "77.00      1\n",
       "165.00     1\n",
       "216.00     1\n",
       "70.00      1\n",
       "Name: runtime, Length: 87, dtype: int64"
      ]
     },
     "execution_count": 21,
     "metadata": {},
     "output_type": "execute_result"
    }
   ],
   "source": [
    "# look at runtime\n",
    "firsthypo_df['runtime'].value_counts()"
   ]
  },
  {
   "cell_type": "code",
   "execution_count": 22,
   "id": "1d76fdd5",
   "metadata": {},
   "outputs": [],
   "source": [
    "# create groups\n",
    "long_film_df = firsthypo_df.loc[firsthypo_df['runtime'] > 150].copy()\n",
    "short_film_df = firsthypo_df.loc[firsthypo_df['runtime'] < 90].copy()"
   ]
  },
  {
   "cell_type": "code",
   "execution_count": 23,
   "id": "92715d87",
   "metadata": {},
   "outputs": [
    {
     "name": "stdout",
     "output_type": "stream",
     "text": [
      "<class 'pandas.core.frame.DataFrame'>\n",
      "Int64Index: 22 entries, 61 to 2527\n",
      "Data columns (total 26 columns):\n",
      " #   Column                 Non-Null Count  Dtype  \n",
      "---  ------                 --------------  -----  \n",
      " 0   imdb_id                22 non-null     object \n",
      " 1   adult                  22 non-null     float64\n",
      " 2   backdrop_path          20 non-null     object \n",
      " 3   belongs_to_collection  3 non-null      object \n",
      " 4   budget                 22 non-null     float64\n",
      " 5   genres                 22 non-null     object \n",
      " 6   homepage               3 non-null      object \n",
      " 7   id                     22 non-null     float64\n",
      " 8   original_language      22 non-null     object \n",
      " 9   original_title         22 non-null     object \n",
      " 10  overview               22 non-null     object \n",
      " 11  popularity             22 non-null     float64\n",
      " 12  poster_path            22 non-null     object \n",
      " 13  production_companies   22 non-null     object \n",
      " 14  production_countries   22 non-null     object \n",
      " 15  release_date           22 non-null     object \n",
      " 16  revenue                22 non-null     float64\n",
      " 17  runtime                22 non-null     float64\n",
      " 18  spoken_languages       22 non-null     object \n",
      " 19  status                 22 non-null     object \n",
      " 20  tagline                15 non-null     object \n",
      " 21  title                  22 non-null     object \n",
      " 22  video                  22 non-null     float64\n",
      " 23  vote_average           22 non-null     float64\n",
      " 24  vote_count             22 non-null     float64\n",
      " 25  certification          12 non-null     object \n",
      "dtypes: float64(9), object(17)\n",
      "memory usage: 4.6+ KB\n",
      "<class 'pandas.core.frame.DataFrame'>\n",
      "Int64Index: 98 entries, 1 to 2556\n",
      "Data columns (total 26 columns):\n",
      " #   Column                 Non-Null Count  Dtype  \n",
      "---  ------                 --------------  -----  \n",
      " 0   imdb_id                98 non-null     object \n",
      " 1   adult                  98 non-null     float64\n",
      " 2   backdrop_path          67 non-null     object \n",
      " 3   belongs_to_collection  18 non-null     object \n",
      " 4   budget                 98 non-null     float64\n",
      " 5   genres                 98 non-null     object \n",
      " 6   homepage               6 non-null      object \n",
      " 7   id                     98 non-null     float64\n",
      " 8   original_language      98 non-null     object \n",
      " 9   original_title         98 non-null     object \n",
      " 10  overview               97 non-null     object \n",
      " 11  popularity             98 non-null     float64\n",
      " 12  poster_path            90 non-null     object \n",
      " 13  production_companies   98 non-null     object \n",
      " 14  production_countries   98 non-null     object \n",
      " 15  release_date           97 non-null     object \n",
      " 16  revenue                98 non-null     float64\n",
      " 17  runtime                98 non-null     float64\n",
      " 18  spoken_languages       98 non-null     object \n",
      " 19  status                 98 non-null     object \n",
      " 20  tagline                71 non-null     object \n",
      " 21  title                  98 non-null     object \n",
      " 22  video                  98 non-null     float64\n",
      " 23  vote_average           98 non-null     float64\n",
      " 24  vote_count             98 non-null     float64\n",
      " 25  certification          64 non-null     object \n",
      "dtypes: float64(9), object(17)\n",
      "memory usage: 20.7+ KB\n"
     ]
    },
    {
     "data": {
      "text/plain": [
       "None"
      ]
     },
     "metadata": {},
     "output_type": "display_data"
    },
    {
     "data": {
      "text/plain": [
       "None"
      ]
     },
     "metadata": {},
     "output_type": "display_data"
    }
   ],
   "source": [
    "display(long_film_df.info(), short_film_df.info())"
   ]
  },
  {
   "cell_type": "code",
   "execution_count": 24,
   "id": "201739bb",
   "metadata": {},
   "outputs": [],
   "source": [
    "longfilm_runtime = long_film_df['runtime']\n",
    "shortfilm_runtime = short_film_df['runtime']"
   ]
  },
  {
   "cell_type": "markdown",
   "id": "c85a638f",
   "metadata": {},
   "source": [
    "# First Hypothesis Testing\n",
    "#### What are the differences in  revenue for movie ratings?"
   ]
  },
  {
   "cell_type": "markdown",
   "id": "5a483467",
   "metadata": {},
   "source": [
    "\n",
    "- Null: Movies have the same revenue in all MPAA ratings\n",
    "\n",
    "- Alternate: Movies with different MPAA ratings have different revenue.\n",
    "\n",
    "Possible question: How much is the differences using linear regression\n",
    "  -  For this question rating will need to be grouped. "
   ]
  },
  {
   "cell_type": "markdown",
   "id": "01a0112b",
   "metadata": {},
   "source": [
    "## Test types: ANOVA and Kruskall"
   ]
  },
  {
   "cell_type": "code",
   "execution_count": 51,
   "id": "93033b83",
   "metadata": {},
   "outputs": [
    {
     "data": {
      "text/plain": [
       "dict_keys([nan, 'PG', 'R', 'G', 'NR', 'PG-13', 'NC-17'])"
      ]
     },
     "execution_count": 51,
     "metadata": {},
     "output_type": "execute_result"
    }
   ],
   "source": [
    "## Create groups dictionary. \n",
    "groups = {}\n",
    "## Loop through all unique categories\n",
    "for i in firsthypo_df['certification'].unique():\n",
    "    ## Get series for group and rename\n",
    "    data = firsthypo_df.loc[firsthypo_df['certification']==i,'revenue'].copy()\n",
    "    \n",
    "    # save into the dictionary\n",
    "    groups[i] = data\n",
    "groups.keys()"
   ]
  },
  {
   "cell_type": "markdown",
   "id": "182a8e07",
   "metadata": {},
   "source": [
    "### Check Assumptions for ANOVA\n",
    "- normality\n",
    "- equal variance\n",
    "- outliers"
   ]
  },
  {
   "cell_type": "markdown",
   "id": "835ae549",
   "metadata": {},
   "source": [
    "### Normality"
   ]
  },
  {
   "cell_type": "code",
   "execution_count": 52,
   "id": "6b1394af",
   "metadata": {},
   "outputs": [
    {
     "ename": "ValueError",
     "evalue": "skewtest is not valid with less than 8 samples; 0 samples were given.",
     "output_type": "error",
     "traceback": [
      "\u001b[1;31m---------------------------------------------------------------------------\u001b[0m",
      "\u001b[1;31mValueError\u001b[0m                                Traceback (most recent call last)",
      "Cell \u001b[1;32mIn [52], line 4\u001b[0m\n\u001b[0;32m      2\u001b[0m norm_results \u001b[38;5;241m=\u001b[39m {}\n\u001b[0;32m      3\u001b[0m \u001b[38;5;28;01mfor\u001b[39;00m i, data \u001b[38;5;129;01min\u001b[39;00m groups\u001b[38;5;241m.\u001b[39mitems():\n\u001b[1;32m----> 4\u001b[0m     stat, p \u001b[38;5;241m=\u001b[39m \u001b[43mstats\u001b[49m\u001b[38;5;241;43m.\u001b[39;49m\u001b[43mnormaltest\u001b[49m\u001b[43m(\u001b[49m\u001b[43mdata\u001b[49m\u001b[43m)\u001b[49m\n\u001b[0;32m      5\u001b[0m     \u001b[38;5;66;03m## save the p val, test statistic, and the size of the group\u001b[39;00m\n\u001b[0;32m      6\u001b[0m     norm_results[i] \u001b[38;5;241m=\u001b[39m {\u001b[38;5;124m'\u001b[39m\u001b[38;5;124mn\u001b[39m\u001b[38;5;124m'\u001b[39m: \u001b[38;5;28mlen\u001b[39m(data),\n\u001b[0;32m      7\u001b[0m                              \u001b[38;5;124m'\u001b[39m\u001b[38;5;124mp\u001b[39m\u001b[38;5;124m'\u001b[39m:p,\n\u001b[0;32m      8\u001b[0m                              \u001b[38;5;124m'\u001b[39m\u001b[38;5;124mtest stat\u001b[39m\u001b[38;5;124m'\u001b[39m:stat,}\n",
      "File \u001b[1;32m~\\anaconda3\\envs\\dojo-env\\lib\\site-packages\\scipy\\stats\\_stats_py.py:1868\u001b[0m, in \u001b[0;36mnormaltest\u001b[1;34m(a, axis, nan_policy)\u001b[0m\n\u001b[0;32m   1865\u001b[0m     a \u001b[38;5;241m=\u001b[39m ma\u001b[38;5;241m.\u001b[39mmasked_invalid(a)\n\u001b[0;32m   1866\u001b[0m     \u001b[38;5;28;01mreturn\u001b[39;00m mstats_basic\u001b[38;5;241m.\u001b[39mnormaltest(a, axis)\n\u001b[1;32m-> 1868\u001b[0m s, _ \u001b[38;5;241m=\u001b[39m \u001b[43mskewtest\u001b[49m\u001b[43m(\u001b[49m\u001b[43ma\u001b[49m\u001b[43m,\u001b[49m\u001b[43m \u001b[49m\u001b[43maxis\u001b[49m\u001b[43m)\u001b[49m\n\u001b[0;32m   1869\u001b[0m k, _ \u001b[38;5;241m=\u001b[39m kurtosistest(a, axis)\n\u001b[0;32m   1870\u001b[0m k2 \u001b[38;5;241m=\u001b[39m s\u001b[38;5;241m*\u001b[39ms \u001b[38;5;241m+\u001b[39m k\u001b[38;5;241m*\u001b[39mk\n",
      "File \u001b[1;32m~\\anaconda3\\envs\\dojo-env\\lib\\site-packages\\scipy\\stats\\_stats_py.py:1673\u001b[0m, in \u001b[0;36mskewtest\u001b[1;34m(a, axis, nan_policy, alternative)\u001b[0m\n\u001b[0;32m   1671\u001b[0m n \u001b[38;5;241m=\u001b[39m a\u001b[38;5;241m.\u001b[39mshape[axis]\n\u001b[0;32m   1672\u001b[0m \u001b[38;5;28;01mif\u001b[39;00m n \u001b[38;5;241m<\u001b[39m \u001b[38;5;241m8\u001b[39m:\n\u001b[1;32m-> 1673\u001b[0m     \u001b[38;5;28;01mraise\u001b[39;00m \u001b[38;5;167;01mValueError\u001b[39;00m(\n\u001b[0;32m   1674\u001b[0m         \u001b[38;5;124m\"\u001b[39m\u001b[38;5;124mskewtest is not valid with less than 8 samples; \u001b[39m\u001b[38;5;132;01m%i\u001b[39;00m\u001b[38;5;124m samples\u001b[39m\u001b[38;5;124m\"\u001b[39m\n\u001b[0;32m   1675\u001b[0m         \u001b[38;5;124m\"\u001b[39m\u001b[38;5;124m were given.\u001b[39m\u001b[38;5;124m\"\u001b[39m \u001b[38;5;241m%\u001b[39m \u001b[38;5;28mint\u001b[39m(n))\n\u001b[0;32m   1676\u001b[0m y \u001b[38;5;241m=\u001b[39m b2 \u001b[38;5;241m*\u001b[39m math\u001b[38;5;241m.\u001b[39msqrt(((n \u001b[38;5;241m+\u001b[39m \u001b[38;5;241m1\u001b[39m) \u001b[38;5;241m*\u001b[39m (n \u001b[38;5;241m+\u001b[39m \u001b[38;5;241m3\u001b[39m)) \u001b[38;5;241m/\u001b[39m (\u001b[38;5;241m6.0\u001b[39m \u001b[38;5;241m*\u001b[39m (n \u001b[38;5;241m-\u001b[39m \u001b[38;5;241m2\u001b[39m)))\n\u001b[0;32m   1677\u001b[0m beta2 \u001b[38;5;241m=\u001b[39m (\u001b[38;5;241m3.0\u001b[39m \u001b[38;5;241m*\u001b[39m (n\u001b[38;5;241m*\u001b[39m\u001b[38;5;241m*\u001b[39m\u001b[38;5;241m2\u001b[39m \u001b[38;5;241m+\u001b[39m \u001b[38;5;241m27\u001b[39m\u001b[38;5;241m*\u001b[39mn \u001b[38;5;241m-\u001b[39m \u001b[38;5;241m70\u001b[39m) \u001b[38;5;241m*\u001b[39m (n\u001b[38;5;241m+\u001b[39m\u001b[38;5;241m1\u001b[39m) \u001b[38;5;241m*\u001b[39m (n\u001b[38;5;241m+\u001b[39m\u001b[38;5;241m3\u001b[39m) \u001b[38;5;241m/\u001b[39m\n\u001b[0;32m   1678\u001b[0m          ((n\u001b[38;5;241m-\u001b[39m\u001b[38;5;241m2.0\u001b[39m) \u001b[38;5;241m*\u001b[39m (n\u001b[38;5;241m+\u001b[39m\u001b[38;5;241m5\u001b[39m) \u001b[38;5;241m*\u001b[39m (n\u001b[38;5;241m+\u001b[39m\u001b[38;5;241m7\u001b[39m) \u001b[38;5;241m*\u001b[39m (n\u001b[38;5;241m+\u001b[39m\u001b[38;5;241m9\u001b[39m)))\n",
      "\u001b[1;31mValueError\u001b[0m: skewtest is not valid with less than 8 samples; 0 samples were given."
     ]
    }
   ],
   "source": [
    "## Running normal test on each group and confirming there are >20 in each group\n",
    "norm_results = {}\n",
    "for i, data in groups.items():\n",
    "    stat, p = stats.normaltest(data)\n",
    "    ## save the p val, test statistic, and the size of the group\n",
    "    norm_results[i] = {'n': len(data),\n",
    "                             'p':p,\n",
    "                             'test stat':stat,}\n",
    "## convert to a dataframe\n",
    "norm_results_df = pd.DataFrame(norm_results).T\n",
    "norm_results_df"
   ]
  },
  {
   "cell_type": "code",
   "execution_count": null,
   "id": "e586209c",
   "metadata": {},
   "outputs": [],
   "source": []
  }
 ],
 "metadata": {
  "kernelspec": {
   "display_name": "Python (dojo-env)",
   "language": "python",
   "name": "dojo-env"
  },
  "language_info": {
   "codemirror_mode": {
    "name": "ipython",
    "version": 3
   },
   "file_extension": ".py",
   "mimetype": "text/x-python",
   "name": "python",
   "nbconvert_exporter": "python",
   "pygments_lexer": "ipython3",
   "version": "3.9.15"
  },
  "toc": {
   "base_numbering": 1,
   "nav_menu": {},
   "number_sections": true,
   "sideBar": true,
   "skip_h1_title": false,
   "title_cell": "Table of Contents",
   "title_sidebar": "Contents",
   "toc_cell": false,
   "toc_position": {},
   "toc_section_display": true,
   "toc_window_display": false
  }
 },
 "nbformat": 4,
 "nbformat_minor": 5
}
