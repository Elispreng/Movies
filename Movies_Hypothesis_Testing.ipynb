{
 "cells": [
  {
   "cell_type": "markdown",
   "id": "c55a89ef",
   "metadata": {},
   "source": [
    "#### Overview\n",
    "\n",
    "1.  How does MPAA rating of a movie (G/PG/PG-13/R) affect how much revenue the movie generates?\n",
    "2. Is there a difference in revenue between 2018 and 2020?\n",
    "3. What  is the difference in revenue for movie length of short vs. long"
   ]
  },
  {
   "cell_type": "markdown",
   "id": "053e80d6",
   "metadata": {},
   "source": [
    "# Create project"
   ]
  },
  {
   "cell_type": "code",
   "execution_count": 1,
   "id": "042318dd",
   "metadata": {},
   "outputs": [],
   "source": [
    "# basic imports\n",
    "import pandas as pd\n",
    "import numpy as np\n",
    "from matplotlib import pyplot as plt\n",
    "import seaborn as sns\n",
    "\n",
    "# SQL\n",
    "from sqlalchemy import create_engine\n",
    "import pymysql\n",
    "pymysql.install_as_MySQLdb()\n",
    "\n",
    "# Stats\n",
    "import scipy.stats as stats\n",
    "import statsmodels.api as sm\n",
    "\n",
    "# settings\n",
    "import warnings\n",
    "warnings.filterwarnings(\"ignore\")\n",
    "pd.options.display.float_format = '{:,.2f}'.format"
   ]
  },
  {
   "cell_type": "markdown",
   "id": "cbf1459a",
   "metadata": {},
   "source": [
    "# Load Data and Process"
   ]
  },
  {
   "cell_type": "markdown",
   "id": "f3987adf",
   "metadata": {},
   "source": [
    "## First Hypothesis prep"
   ]
  },
  {
   "cell_type": "code",
   "execution_count": 11,
   "id": "6916cb6f",
   "metadata": {},
   "outputs": [
    {
     "data": {
      "text/html": [
       "<div>\n",
       "<style scoped>\n",
       "    .dataframe tbody tr th:only-of-type {\n",
       "        vertical-align: middle;\n",
       "    }\n",
       "\n",
       "    .dataframe tbody tr th {\n",
       "        vertical-align: top;\n",
       "    }\n",
       "\n",
       "    .dataframe thead th {\n",
       "        text-align: right;\n",
       "    }\n",
       "</style>\n",
       "<table border=\"1\" class=\"dataframe\">\n",
       "  <thead>\n",
       "    <tr style=\"text-align: right;\">\n",
       "      <th></th>\n",
       "      <th>imdb_id</th>\n",
       "      <th>adult</th>\n",
       "      <th>backdrop_path</th>\n",
       "      <th>belongs_to_collection</th>\n",
       "      <th>budget</th>\n",
       "      <th>genres</th>\n",
       "      <th>homepage</th>\n",
       "      <th>id</th>\n",
       "      <th>original_language</th>\n",
       "      <th>original_title</th>\n",
       "      <th>...</th>\n",
       "      <th>revenue</th>\n",
       "      <th>runtime</th>\n",
       "      <th>spoken_languages</th>\n",
       "      <th>status</th>\n",
       "      <th>tagline</th>\n",
       "      <th>title</th>\n",
       "      <th>video</th>\n",
       "      <th>vote_average</th>\n",
       "      <th>vote_count</th>\n",
       "      <th>certification</th>\n",
       "    </tr>\n",
       "  </thead>\n",
       "  <tbody>\n",
       "    <tr>\n",
       "      <th>0</th>\n",
       "      <td>0</td>\n",
       "      <td>NaN</td>\n",
       "      <td>NaN</td>\n",
       "      <td>NaN</td>\n",
       "      <td>NaN</td>\n",
       "      <td>NaN</td>\n",
       "      <td>NaN</td>\n",
       "      <td>NaN</td>\n",
       "      <td>NaN</td>\n",
       "      <td>NaN</td>\n",
       "      <td>...</td>\n",
       "      <td>NaN</td>\n",
       "      <td>NaN</td>\n",
       "      <td>NaN</td>\n",
       "      <td>NaN</td>\n",
       "      <td>NaN</td>\n",
       "      <td>NaN</td>\n",
       "      <td>NaN</td>\n",
       "      <td>NaN</td>\n",
       "      <td>NaN</td>\n",
       "      <td>NaN</td>\n",
       "    </tr>\n",
       "    <tr>\n",
       "      <th>1</th>\n",
       "      <td>tt0113026</td>\n",
       "      <td>0.00</td>\n",
       "      <td>/vMFs7nw6P0bIV1jDsQpxAieAVnH.jpg</td>\n",
       "      <td>NaN</td>\n",
       "      <td>10,000,000.00</td>\n",
       "      <td>[{'id': 35, 'name': 'Comedy'}, {'id': 10402, '...</td>\n",
       "      <td>NaN</td>\n",
       "      <td>62,127.00</td>\n",
       "      <td>en</td>\n",
       "      <td>The Fantasticks</td>\n",
       "      <td>...</td>\n",
       "      <td>0.00</td>\n",
       "      <td>86.00</td>\n",
       "      <td>[{'english_name': 'English', 'iso_639_1': 'en'...</td>\n",
       "      <td>Released</td>\n",
       "      <td>Try to remember the first time magic happened</td>\n",
       "      <td>The Fantasticks</td>\n",
       "      <td>0.00</td>\n",
       "      <td>5.50</td>\n",
       "      <td>22.00</td>\n",
       "      <td>NaN</td>\n",
       "    </tr>\n",
       "  </tbody>\n",
       "</table>\n",
       "<p>2 rows × 26 columns</p>\n",
       "</div>"
      ],
      "text/plain": [
       "     imdb_id  adult                     backdrop_path belongs_to_collection  \\\n",
       "0          0    NaN                               NaN                   NaN   \n",
       "1  tt0113026   0.00  /vMFs7nw6P0bIV1jDsQpxAieAVnH.jpg                   NaN   \n",
       "\n",
       "         budget                                             genres homepage  \\\n",
       "0           NaN                                                NaN      NaN   \n",
       "1 10,000,000.00  [{'id': 35, 'name': 'Comedy'}, {'id': 10402, '...      NaN   \n",
       "\n",
       "         id original_language   original_title  ... revenue  runtime  \\\n",
       "0       NaN               NaN              NaN  ...     NaN      NaN   \n",
       "1 62,127.00                en  The Fantasticks  ...    0.00    86.00   \n",
       "\n",
       "                                    spoken_languages    status  \\\n",
       "0                                                NaN       NaN   \n",
       "1  [{'english_name': 'English', 'iso_639_1': 'en'...  Released   \n",
       "\n",
       "                                         tagline            title  video  \\\n",
       "0                                            NaN              NaN    NaN   \n",
       "1  Try to remember the first time magic happened  The Fantasticks   0.00   \n",
       "\n",
       "   vote_average vote_count certification  \n",
       "0           NaN        NaN           NaN  \n",
       "1          5.50      22.00           NaN  \n",
       "\n",
       "[2 rows x 26 columns]"
      ]
     },
     "execution_count": 11,
     "metadata": {},
     "output_type": "execute_result"
    }
   ],
   "source": [
    "# import the data\n",
    "filename = 'Data/tmdb_results_combined_df.csv.gz'\n",
    "firsthypo_df=pd.read_csv(filename)\n",
    "#check that the data loaded\n",
    "firsthypo_df.head(2)"
   ]
  },
  {
   "cell_type": "code",
   "execution_count": 3,
   "id": "2ef28e59",
   "metadata": {},
   "outputs": [
    {
     "name": "stdout",
     "output_type": "stream",
     "text": [
      "<class 'pandas.core.frame.DataFrame'>\n",
      "RangeIndex: 2580 entries, 0 to 2579\n",
      "Data columns (total 26 columns):\n",
      " #   Column                 Non-Null Count  Dtype  \n",
      "---  ------                 --------------  -----  \n",
      " 0   imdb_id                2580 non-null   object \n",
      " 1   adult                  2578 non-null   float64\n",
      " 2   backdrop_path          1412 non-null   object \n",
      " 3   belongs_to_collection  208 non-null    object \n",
      " 4   budget                 2578 non-null   float64\n",
      " 5   genres                 2578 non-null   object \n",
      " 6   homepage               171 non-null    object \n",
      " 7   id                     2578 non-null   float64\n",
      " 8   original_language      2578 non-null   object \n",
      " 9   original_title         2578 non-null   object \n",
      " 10  overview               2529 non-null   object \n",
      " 11  popularity             2578 non-null   float64\n",
      " 12  poster_path            2322 non-null   object \n",
      " 13  production_companies   2578 non-null   object \n",
      " 14  production_countries   2578 non-null   object \n",
      " 15  release_date           2554 non-null   object \n",
      " 16  revenue                2578 non-null   float64\n",
      " 17  runtime                2578 non-null   float64\n",
      " 18  spoken_languages       2578 non-null   object \n",
      " 19  status                 2578 non-null   object \n",
      " 20  tagline                1109 non-null   object \n",
      " 21  title                  2578 non-null   object \n",
      " 22  video                  2578 non-null   float64\n",
      " 23  vote_average           2578 non-null   float64\n",
      " 24  vote_count             2578 non-null   float64\n",
      " 25  certification          815 non-null    object \n",
      "dtypes: float64(9), object(17)\n",
      "memory usage: 524.2+ KB\n"
     ]
    }
   ],
   "source": [
    "#check info\n",
    "firsthypo_df.info()"
   ]
  },
  {
   "cell_type": "code",
   "execution_count": 4,
   "id": "44b19f70",
   "metadata": {},
   "outputs": [
    {
     "data": {
      "text/plain": [
       "R          467\n",
       "PG-13      182\n",
       "NR          71\n",
       "PG          63\n",
       "G           25\n",
       "NC-17        6\n",
       "Unrated      1\n",
       "Name: certification, dtype: int64"
      ]
     },
     "execution_count": 4,
     "metadata": {},
     "output_type": "execute_result"
    }
   ],
   "source": [
    "# check the value counts on certification column for first hypothesis\n",
    "firsthypo_df['certification'].value_counts()"
   ]
  },
  {
   "cell_type": "code",
   "execution_count": 5,
   "id": "bdada31e",
   "metadata": {},
   "outputs": [
    {
     "name": "stdout",
     "output_type": "stream",
     "text": [
      "0.68% of the data in the certification column is missing\n"
     ]
    }
   ],
   "source": [
    "# explore the  missing data\n",
    "num_missing = firsthypo_df['certification'].isna().sum()\n",
    "\n",
    "total_rows = firsthypo_df.shape[0]\n",
    "\n",
    "percent_missing = num_missing / total_rows\n",
    "print(f'{percent_missing:.2f}% of the data in the certification column is missing')"
   ]
  },
  {
   "cell_type": "markdown",
   "id": "c28255f4",
   "metadata": {},
   "source": [
    "#### Several step need to be taken to clean and prepare the data\n",
    "- drop movies with no revenue and no budget\n",
    "- drop movies with low counts in certification categories"
   ]
  },
  {
   "cell_type": "code",
   "execution_count": 12,
   "id": "45a1c523",
   "metadata": {},
   "outputs": [
    {
     "name": "stdout",
     "output_type": "stream",
     "text": [
      "(2580, 26)\n",
      "(546, 26)\n"
     ]
    }
   ],
   "source": [
    "# viewing shape before filtering\n",
    "print(firsthypo_df.shape)\n",
    "# dropping movies with zero for both 'revenue' AND 'budget'\n",
    "firsthypo_df = firsthypo_df[((firsthypo_df['revenue'] > 0) & (firsthypo_df['budget'] > 0)) |\n",
    "                     ((firsthypo_df['revenue'] == 0) & (firsthypo_df['budget'] > 0))].copy()\n",
    "\n",
    "print(firsthypo_df.shape)"
   ]
  },
  {
   "cell_type": "code",
   "execution_count": 14,
   "id": "55f009a2",
   "metadata": {
    "scrolled": true
   },
   "outputs": [
    {
     "data": {
      "text/plain": [
       "R        205\n",
       "PG-13    125\n",
       "PG        34\n",
       "G         13\n",
       "NR        12\n",
       "Name: certification, dtype: int64"
      ]
     },
     "execution_count": 14,
     "metadata": {},
     "output_type": "execute_result"
    }
   ],
   "source": [
    "# resolve small data counts by creating  new column  and check value\n",
    "firsthypo_df['certification'].value_counts()"
   ]
  },
  {
   "cell_type": "markdown",
   "id": "8049e710",
   "metadata": {},
   "source": [
    "## Second Hypothesis prep"
   ]
  },
  {
   "cell_type": "code",
   "execution_count": null,
   "id": "0287d0d5",
   "metadata": {},
   "outputs": [],
   "source": [
    "# open 2018 data json\n",
    "with open('Data4/tmdb_api_results_2018.json') as f:\n",
    "    tmbd_2018=json.load(f)"
   ]
  },
  {
   "cell_type": "code",
   "execution_count": null,
   "id": "53c0eb44",
   "metadata": {},
   "outputs": [],
   "source": []
  },
  {
   "cell_type": "code",
   "execution_count": null,
   "id": "2e3b6824",
   "metadata": {},
   "outputs": [],
   "source": []
  },
  {
   "cell_type": "code",
   "execution_count": null,
   "id": "3df1d4d7",
   "metadata": {},
   "outputs": [],
   "source": []
  }
 ],
 "metadata": {
  "kernelspec": {
   "display_name": "Python (dojo-env)",
   "language": "python",
   "name": "dojo-env"
  },
  "language_info": {
   "codemirror_mode": {
    "name": "ipython",
    "version": 3
   },
   "file_extension": ".py",
   "mimetype": "text/x-python",
   "name": "python",
   "nbconvert_exporter": "python",
   "pygments_lexer": "ipython3",
   "version": "3.9.15"
  },
  "toc": {
   "base_numbering": 1,
   "nav_menu": {},
   "number_sections": true,
   "sideBar": true,
   "skip_h1_title": false,
   "title_cell": "Table of Contents",
   "title_sidebar": "Contents",
   "toc_cell": false,
   "toc_position": {},
   "toc_section_display": true,
   "toc_window_display": false
  }
 },
 "nbformat": 4,
 "nbformat_minor": 5
}
