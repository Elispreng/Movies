{
 "cells": [
  {
   "cell_type": "code",
   "execution_count": 3,
   "id": "8328f6f9",
   "metadata": {},
   "outputs": [],
   "source": [
    "# Other tools and json\n",
    "import json"
   ]
  },
  {
   "cell_type": "code",
   "execution_count": 6,
   "id": "c64d4c8d",
   "metadata": {
    "scrolled": false
   },
   "outputs": [
    {
     "data": {
      "text/plain": [
       "dict_keys(['user', 'password'])"
      ]
     },
     "execution_count": 6,
     "metadata": {},
     "output_type": "execute_result"
    }
   ],
   "source": [
    "# open the json\n",
    "with open(\"C:\\\\Users\\\\Elizabeth Spreng\\\\.secret\\\\mysql.json\", 'r') as f:\n",
    "    login = json.load(f)\n",
    "## Display the keys of the loaded dict\n",
    "login.keys()"
   ]
  },
  {
   "cell_type": "code",
   "execution_count": 8,
   "id": "33faca18",
   "metadata": {},
   "outputs": [],
   "source": [
    "## UPDATE THESE VARIABLES TO MATCH YOUR OWN PC/DATABASE\n",
    "# MySQL Database to export \n",
    "DB_NAME = \"movies\"\n",
    "\n",
    "# Json file with mysql login credentials\n",
    "MYSQL_LOGIN = \"C:\\\\Users\\\\Elizabeth Spreng\\\\.secret\\\\mysql.json\"\n",
    "USER_KEY = \"user\"\n",
    "PASSWORD_KEY = \"password\"\n",
    "\n",
    "## (Optional) - Change folder\n",
    "folder = \"Data-for-Tableau/\""
   ]
  },
  {
   "cell_type": "code",
   "execution_count": 9,
   "id": "dd63fa49",
   "metadata": {},
   "outputs": [],
   "source": [
    "######## CODE TO TEST LOGIN CREDENTIALS\n",
    "import os, json\n",
    "os.makedirs(folder, exist_ok=True)\n",
    "\n",
    "with open(MYSQL_LOGIN) as f:\n",
    "\tlogin = json.load(f)\n",
    "\n",
    "if (USER_KEY not in login):\n",
    "    raise Exception(f\"[!] The json file did not have a {USER_KEY} key.\")\n",
    "    \n",
    "if (PASSWORD_KEY not in login):\n",
    "    raise Exception(f\"[!] The json file did not have a {PASSWORD_KEY} key.\")"
   ]
  }
 ],
 "metadata": {
  "kernelspec": {
   "display_name": "Python (dojo-env)",
   "language": "python",
   "name": "dojo-env"
  },
  "language_info": {
   "codemirror_mode": {
    "name": "ipython",
    "version": 3
   },
   "file_extension": ".py",
   "mimetype": "text/x-python",
   "name": "python",
   "nbconvert_exporter": "python",
   "pygments_lexer": "ipython3",
   "version": "3.9.15"
  },
  "toc": {
   "base_numbering": 1,
   "nav_menu": {},
   "number_sections": true,
   "sideBar": true,
   "skip_h1_title": false,
   "title_cell": "Table of Contents",
   "title_sidebar": "Contents",
   "toc_cell": false,
   "toc_position": {},
   "toc_section_display": true,
   "toc_window_display": false
  }
 },
 "nbformat": 4,
 "nbformat_minor": 5
}
